{
  "nbformat": 4,
  "nbformat_minor": 0,
  "metadata": {
    "colab": {
      "provenance": [],
      "include_colab_link": true
    },
    "kernelspec": {
      "name": "python3",
      "display_name": "Python 3"
    },
    "accelerator": "GPU"
  },
  "cells": [
    {
      "cell_type": "markdown",
      "metadata": {
        "id": "view-in-github",
        "colab_type": "text"
      },
      "source": [
        "<a href=\"https://colab.research.google.com/github/yoii18/KaggleModels/blob/main/age_gender_submit.ipynb\" target=\"_parent\"><img src=\"https://colab.research.google.com/assets/colab-badge.svg\" alt=\"Open In Colab\"/></a>"
      ]
    },
    {
      "cell_type": "markdown",
      "metadata": {
        "id": "-GRYwLR3vqLz"
      },
      "source": [
        "# Age Estimation and Gender Classification\n",
        "\n",
        "In this assignment, you will train CNN models to estimate a person's age and gender by given a face image. Please read carefully all the instructions before you start to write your code.\n",
        "\n",
        "**Your tasks**\n",
        "\n",
        "You need train two CNN models:\n",
        "- one is defined by you with a few restrictions and be trained from scratch, save it as `age_gender_A.h5`\n",
        "- the other is to finetune a pretrained model, save it as `age_gender_B.h5`\n",
        "\n",
        "**Dataset**\n",
        "\n",
        "Your models will be trained and validated on a folder `train_val/` containing 5,000 labeled face images (size: 128 x 128), originated from the UTKFace dataset. During marking, your code will be tested on unseen test data.\n",
        "\n",
        "**Performance metric**\n",
        "\n",
        "The metrics for measuring the performance on the test set are:\n",
        "- age estimation: MAE (Mean Absolute Error)\n",
        "- gender classification: accuracy\n",
        "\n",
        "**Please use the GPU time wisely.**\n",
        "\n",
        "Just be aware that there is some limit of free GPU usage (It is said the users can use up to 12 hours in row. But many people found they reached its limit far less than 12 hours.). Therefore, I would give you three suggestions to mimimise the risk of reaching the limit.\n",
        "\n",
        "1. Make sure you have a stable internet connection.\n",
        "2. Double check all the hyperparameters are good before you start to train the model.\n",
        "3. According to my experience, each model should be trained in less than 2 hours. If much longer than that, you'd better consider adjusting the architecture."
      ]
    },
    {
      "cell_type": "markdown",
      "metadata": {
        "id": "vOAXA2CdQ8Pb"
      },
      "source": [
        "## Setting Up: Mount the google drive\n",
        "Mount your google drive to the notebook.\n",
        "\n",
        "Also don't forget to **enable GPU** before your training.\n"
      ]
    },
    {
      "cell_type": "code",
      "metadata": {
        "id": "XCwBWDsMQwyb",
        "colab": {
          "base_uri": "https://localhost:8080/"
        },
        "outputId": "c51410c7-0efb-4a7f-8331-5193d7d16447"
      },
      "source": [
        "import numpy as np\n",
        "import pandas as pd\n",
        "import os\n",
        "from PIL import Image\n",
        "\n",
        "#import kornia\n",
        "\n",
        "from sklearn.model_selection import train_test_split\n",
        "from tqdm import tqdm\n",
        "import matplotlib.pyplot as plt\n",
        "from collections import Counter\n",
        "import seaborn as sns\n",
        "\n",
        "\n",
        "from IPython.display import display, Image\n",
        "from tensorflow.keras.preprocessing.image import load_img\n",
        "from tensorflow.keras.preprocessing.image import img_to_array\n",
        "from numpy import expand_dims\n",
        "from termcolor import colored\n",
        "import tensorflow as tf\n",
        "from google.colab import drive\n",
        "\n",
        "drive.mount('/content/gdrive')"
      ],
      "execution_count": 14,
      "outputs": [
        {
          "output_type": "stream",
          "name": "stdout",
          "text": [
            "Drive already mounted at /content/gdrive; to attempt to forcibly remount, call drive.mount(\"/content/gdrive\", force_remount=True).\n"
          ]
        }
      ]
    },
    {
      "cell_type": "code",
      "source": [
        "import warnings\n",
        "warnings.filterwarnings('ignore')"
      ],
      "metadata": {
        "id": "QDldhfFmlOrV"
      },
      "execution_count": 30,
      "outputs": []
    },
    {
      "cell_type": "markdown",
      "metadata": {
        "id": "lBRVYYhRRINA"
      },
      "source": [
        "## Visualize a few photos\n",
        "It is always benificial to know your data well before you start. Here display a few (at least 20) images together with its corresponding age and gender from the `train_val/` folder to have a first impression of the dataset. You may also check what the size of the images are."
      ]
    },
    {
      "cell_type": "code",
      "metadata": {
        "id": "3zA1kSeoReXJ",
        "colab": {
          "base_uri": "https://localhost:8080/"
        },
        "outputId": "5112f64a-a12b-4286-918a-b3a01ab8a74f"
      },
      "source": [
        "dir_path = \"/content/gdrive/MyDrive/Colab_Data/train_val\"\n",
        "image_paths = os.listdir(dir_path)\n",
        "\n",
        "image_t = tf.image.decode_jpeg(tf.io.read_file(os.path.join(dir_path, image_paths[0])), channels=3)\n",
        "shape = tf.shape(image_t)\n",
        "print(f'Height of image: {shape[0]}')\n",
        "print(f'Width of image: {shape[1]}')"
      ],
      "execution_count": 3,
      "outputs": [
        {
          "output_type": "stream",
          "name": "stdout",
          "text": [
            "Height of image: 128\n",
            "Width of image: 128\n"
          ]
        }
      ]
    },
    {
      "cell_type": "code",
      "source": [
        "# build a gender and age dictionary\n",
        "age, gender = [], []\n",
        "for path in image_paths:\n",
        "  age.append(path.split('_')[0])\n",
        "  gender.append(path.split('_')[1])\n",
        "\n",
        "gender_dict = dict(Counter(gender))\n",
        "age_dict = dict(Counter(age))"
      ],
      "metadata": {
        "id": "oyldYUvInsPX"
      },
      "execution_count": 41,
      "outputs": []
    },
    {
      "cell_type": "code",
      "source": [
        "gender_map = {0:'Male', 1:'Female'}\n",
        "print(gender_map[0])"
      ],
      "metadata": {
        "colab": {
          "base_uri": "https://localhost:8080/"
        },
        "id": "sFiJ_Sfbrz0h",
        "outputId": "2a55aea1-60d8-493a-c64a-fe3871eb5754"
      },
      "execution_count": 61,
      "outputs": [
        {
          "output_type": "stream",
          "name": "stdout",
          "text": [
            "Male\n"
          ]
        }
      ]
    },
    {
      "cell_type": "code",
      "source": [
        "rand_image_path = np.random.choice(image_paths)\n",
        "rand_image = plt.imread(os.path.join(dir_path, rand_image_path))/255\n",
        "\n",
        "plt.figure(figsize=(3,3))\n",
        "img = plt.imread(os.path.join(dir_path, rand_image_path))/255\n",
        "rand_age = rand_image_path.split('_')[0]\n",
        "rand_gender = int(rand_image_path.split('_')[1])\n",
        "#print(type(rand_gender))\n",
        "plt.title(f\"Age: {rand_age}\\n Gender: {gender_map[rand_gender]}\")\n",
        "plt.suptitle(\"Random Image\")\n",
        "plt.imshow(img)\n",
        "plt.axis(\"off\")\n",
        "plt.tight_layout()\n",
        "plt.show()"
      ],
      "metadata": {
        "colab": {
          "base_uri": "https://localhost:8080/",
          "height": 313
        },
        "id": "-fZINXPqfwGA",
        "outputId": "237bfd07-97f3-4d4b-8c7c-a5fcc9b38dab"
      },
      "execution_count": 69,
      "outputs": [
        {
          "output_type": "display_data",
          "data": {
            "text/plain": [
              "<Figure size 300x300 with 1 Axes>"
            ],
            "image/png": "[encoded data removed]"
          },
          "metadata": {}
        }
      ]
    },
    {
      "cell_type": "markdown",
      "metadata": {
        "id": "zp_QcvuTRUqq"
      },
      "source": [
        "## Rearrange the dataset\n",
        "You may do any arrangement for the dataset to suit your later process, such as splitting into training set and validation set, saving the gender labels and age some how, and so on.\n"
      ]
    },
    {
      "cell_type": "code",
      "metadata": {
        "id": "mGOkUt8_Uu8q",
        "colab": {
          "base_uri": "https://localhost:8080/"
        },
        "outputId": "b7757a11-b044-420b-b858-392203ce5289"
      },
      "source": [
        "train_images, val_images = train_test_split(image_paths,\n",
        "                                            test_size=0.2,\n",
        "                                            random_state=42,\n",
        "                                            shuffle=True)\n",
        "\n",
        "print(f\"Size of train data: {len(train_images)}\")\n",
        "print(f\"Size of validation data: {len(val_images)}\")\n",
        "\n",
        "train_age = [int(path.split('_')[0]) for path in train_images]\n",
        "train_gender = [int(path.split('_')[1]) for path in train_images]\n",
        "\n",
        "val_age = [int(path.split('_')[0]) for path in val_images]\n",
        "val_gender = [int(path.split('_')[1]) for path in val_images]"
      ],
      "execution_count": 75,
      "outputs": [
        {
          "output_type": "stream",
          "name": "stdout",
          "text": [
            "Size of train data: 4000\n",
            "Size of validation data: 1000\n"
          ]
        }
      ]
    },
    {
      "cell_type": "markdown",
      "metadata": {
        "id": "8YUBgGWAUHXp"
      },
      "source": [
        "## STEP1: Data pre-processing\n",
        "Now you need do some pre-processing before feeding data into a CNN network. You may consider:\n",
        "\n",
        "1.\tRescale the pixel values (integers between 0 and 255) to [0,1]. **You must do this rescaling.** Otherwise the testing performance will be affected significantly, as the test images will be rescaling in this way.\n",
        "2.\tData augmentation.\n",
        "\n",
        "**Don't rescale the age to [0,1].** Otherwise the testing performance will be affected significantly, as the original age is used in the testing stage."
      ]
    },
    {
      "cell_type": "code",
      "source": [
        "def create_df(images=train_images, genders=train_gender, ages=train_age):\n",
        "  df = pd.DataFrame()\n",
        "  df['images'] = images\n",
        "  df['age'] = genders\n",
        "  df['gender'] = ages\n",
        "\n",
        "  return df\n",
        "\n",
        "df_train = create_df()\n",
        "df_val = create_df(images=val_images, genders=val_gender, ages=val_age)"
      ],
      "metadata": {
        "id": "yhvSzxFT4mUG"
      },
      "execution_count": 110,
      "outputs": []
    },
    {
      "cell_type": "code",
      "source": [
        "print(f\"Shape of Training Dataframe is: {df_train.shape}\")\n",
        "print(f\"Shape of Validation Dataframe is: {df_val.shape}\")"
      ],
      "metadata": {
        "colab": {
          "base_uri": "https://localhost:8080/"
        },
        "id": "d0btFvJV5sM8",
        "outputId": "428bbfa3-a1ac-4741-ba7c-ff712cc368b6"
      },
      "execution_count": 112,
      "outputs": [
        {
          "output_type": "stream",
          "name": "stdout",
          "text": [
            "Shape of Training Dataframe is: (4000, 3)\n",
            "Shape of Validation Dataframe is: (1000, 3)\n"
          ]
        }
      ]
    },
    {
      "cell_type": "code",
      "source": [],
      "metadata": {
        "id": "llViTAFj5rzC"
      },
      "execution_count": null,
      "outputs": []
    },
    {
      "cell_type": "code",
      "source": [],
      "metadata": {
        "id": "yG9G8n315rnK"
      },
      "execution_count": null,
      "outputs": []
    },
    {
      "cell_type": "code",
      "source": [],
      "metadata": {
        "id": "8iM6scWm5rQj"
      },
      "execution_count": null,
      "outputs": []
    },
    {
      "cell_type": "markdown",
      "metadata": {
        "id": "EaH0dLz-UzpT"
      },
      "source": [
        "## STEP2A: Build your own CNN network\n",
        "Define your own CNN for classifying the gender and predicting the age. Though there are two tasks, you need **only one CNN model, but with two outputs** - you may search online for solution.\n",
        "\n",
        "There are a few restrictions about your network as follows.\n",
        "1.\tThe input size must be 128 x 128 x 3, which means you **should not resize** the original images. This is because my test code relies on this particular input size. Any other size will cause problem in the testing stage.\n",
        "2.  Please treat the gender classification as a binary problem, i.e., **the output layer for the gender branch has only 1 unit**, instead of 2 (though it is correct to treat the gender classification as a mutli-class problem where class number is 2, the last layer has 2 units). This is because my test code only works for the 1-unit-last-layer gender branch setting.\n",
        "3.\tThe size of feature maps being fed to the first fully connected layer must be less than 10 x 10, while there is no number limitation about the depth.\n",
        "4.\tYou may choose any techniques for preventing overfitting.\n",
        "\n",
        "In the end of the cell, use `modelA.summary()` to output the model architecture. You may also use `plot_model()` to visualize its architecture."
      ]
    },
    {
      "cell_type": "code",
      "metadata": {
        "id": "atYurdRBU64d"
      },
      "source": [
        "#\n",
        "# Add your code here\n",
        "#\n",
        "\n",
        "\n",
        "modelA.summary()\n",
        "from tensorflow.keras.utils import plot_model\n",
        "plot_model(modelA, show_shapes=True)"
      ],
      "execution_count": null,
      "outputs": []
    },
    {
      "cell_type": "markdown",
      "metadata": {
        "id": "YvxCap5OVNEG"
      },
      "source": [
        "## STEP3A: Compile and train your model\n",
        "Compile and train your model here.\n",
        "Save your model by `modelA.save(your_model_folder+\"age_gender_A.h5\")` after training.\n",
        "\n",
        "**DON'T use any other name for your model file.** This is because my test code relies on this particular model name. Any other file name will cause problem in the testing stage.\n",
        "\n",
        "**Save the model with `save()` instead of `save_weights()`.** This is because I will load the model by\n",
        "\n",
        "`modelA = load_model(model_folder+\"age_gender_A.h5\")`.\n"
      ]
    },
    {
      "cell_type": "code",
      "metadata": {
        "id": "A7rWAbMoVPMw"
      },
      "source": [
        "#\n",
        "# Add your code here\n",
        "#\n",
        "\n",
        "modelA.save(your_model_folder+\"age_gender_A.h5\")"
      ],
      "execution_count": null,
      "outputs": []
    },
    {
      "cell_type": "markdown",
      "metadata": {
        "id": "qX9woxxCVPj-"
      },
      "source": [
        "## STEP4A: Draw the learning curves\n",
        "Draw four figures as follows\n",
        "1.\tThe loss of the gender classification over the training and validation set\n",
        "2.\tThe accuracy of the gender classification over the training and validation set\n",
        "3.\tThe loss of the age estimation over the training and validation set\n",
        "4.\tThe MAE of the age estimation over the training and validation set\n"
      ]
    },
    {
      "cell_type": "code",
      "metadata": {
        "id": "1pl5bSA5VT3Y"
      },
      "source": [
        "#\n",
        "# Add your code here\n",
        "#\n"
      ],
      "execution_count": null,
      "outputs": []
    },
    {
      "cell_type": "markdown",
      "metadata": {
        "id": "3fCO79ViVUkX"
      },
      "source": [
        "## STEP2B: Build a CNN network based on a pre-trained model\n",
        "Choose one existing CNN architecture pre-trained on ImageNet, and fine-tune on this dataset.\n",
        "\n",
        "The same as required in Model A, **don’t resize the input image size**. **The output layer for the gender branch is set to have only 1 unit**.\n",
        "\n",
        "In the end of the cell, use `modelB.summary()` to output the model architecture. You may also use `plot_model()` to visualize its architecture.\n"
      ]
    },
    {
      "cell_type": "code",
      "metadata": {
        "id": "0twFrc4jVi2E"
      },
      "source": [
        "#\n",
        "# Add your code here\n",
        "#\n",
        "\n",
        "modelB.summary()\n",
        "from tensorflow.keras.utils import plot_model\n",
        "plot_model(modelB, show_shapes=True)"
      ],
      "execution_count": null,
      "outputs": []
    },
    {
      "cell_type": "markdown",
      "metadata": {
        "id": "vsqWfCAzVjPk"
      },
      "source": [
        "## STEP3B: Compile and train your model\n",
        "Compile and train your model here.\n",
        "Save your model to `age_gender_B.h5` after training.\n",
        "\n",
        "**DON'T use any other name for your model file.** This is because my test code relies on this particular model name. Any other file name will cause problem in the testing stage.\n",
        "\n",
        "**Also, save the model with `save()` instead of `save_weights()`.**\n"
      ]
    },
    {
      "cell_type": "code",
      "metadata": {
        "id": "IQlYE1aWVmml"
      },
      "source": [
        "#\n",
        "# Add your code here\n",
        "#\n",
        "\n",
        "modelB.save(your_model_folder+\"age_gender_B.h5\")"
      ],
      "execution_count": null,
      "outputs": []
    },
    {
      "cell_type": "markdown",
      "metadata": {
        "id": "sdRlobSlVnBi"
      },
      "source": [
        "## STEP4B: Draw the learning curve\n",
        "Draw four figures as follows\n",
        "1.\tThe loss of the gender classification over the training and validation set\n",
        "2.\tThe accuracy of the gender classification over the training and validation set\n",
        "3.\tThe loss of the age estimation over the training and validation set\n",
        "4.\tThe MAE of the age estimation over the training and validation set"
      ]
    },
    {
      "cell_type": "code",
      "metadata": {
        "id": "6T_uTOQkVrAB"
      },
      "source": [
        "#\n",
        "# Add your code here\n",
        "#\n"
      ],
      "execution_count": null,
      "outputs": []
    },
    {
      "cell_type": "markdown",
      "metadata": {
        "id": "67UhgpceVrv2"
      },
      "source": [
        "## STEP5: Evaluate the model on the test set\n",
        "I will add my test code here to test the two models you trained. The test set will not be available before your submission.\n",
        "\n",
        "The metrics for measuring the performance on the test set are:\n",
        "- age estimation: MAE (Mean Absolute Error)\n",
        "- gender classification: accuracy\n"
      ]
    },
    {
      "cell_type": "code",
      "metadata": {
        "id": "5rh5DlraV1aj"
      },
      "source": [
        "#\n",
        "# Don't add code in this cell when submitting this file\n",
        "#"
      ],
      "execution_count": null,
      "outputs": []
    }
  ]
}