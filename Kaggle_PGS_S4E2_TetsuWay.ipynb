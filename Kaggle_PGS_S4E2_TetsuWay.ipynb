{
  "nbformat": 4,
  "nbformat_minor": 0,
  "metadata": {
    "colab": {
      "provenance": [],
      "mount_file_id": "1bkO-12HeneuIGw3E727V3ZsRInTjiUKU",
      "authorship_tag": "ABX9TyNfGoA7da3huF3hrJJqOri9",
      "include_colab_link": true
    },
    "kernelspec": {
      "name": "python3",
      "display_name": "Python 3"
    },
    "language_info": {
      "name": "python"
    }
  },
  "cells": [
    {
      "cell_type": "markdown",
      "metadata": {
        "id": "view-in-github",
        "colab_type": "text"
      },
      "source": [
        "<a href=\"https://colab.research.google.com/github/yoii18/KaggleModels/blob/main/Kaggle_PGS_S4E2_TetsuWay.ipynb\" target=\"_parent\"><img src=\"https://colab.research.google.com/assets/colab-badge.svg\" alt=\"Open In Colab\"/></a>"
      ]
    },
    {
      "cell_type": "code",
      "execution_count": 3,
      "metadata": {
        "colab": {
          "base_uri": "https://localhost:8080/"
        },
        "id": "tgeq3x8HX3rD",
        "outputId": "ff5681d5-4cc7-4eec-a97b-d998e1b0fd88"
      },
      "outputs": [
        {
          "output_type": "stream",
          "name": "stdout",
          "text": [
            "Requirement already satisfied: shap in /usr/local/lib/python3.10/dist-packages (0.44.1)\n",
            "Requirement already satisfied: numpy in /usr/local/lib/python3.10/dist-packages (from shap) (1.23.5)\n",
            "Requirement already satisfied: scipy in /usr/local/lib/python3.10/dist-packages (from shap) (1.11.4)\n",
            "Requirement already satisfied: scikit-learn in /usr/local/lib/python3.10/dist-packages (from shap) (1.2.2)\n",
            "Requirement already satisfied: pandas in /usr/local/lib/python3.10/dist-packages (from shap) (1.5.3)\n",
            "Requirement already satisfied: tqdm>=4.27.0 in /usr/local/lib/python3.10/dist-packages (from shap) (4.66.1)\n",
            "Requirement already satisfied: packaging>20.9 in /usr/local/lib/python3.10/dist-packages (from shap) (23.2)\n",
            "Requirement already satisfied: slicer==0.0.7 in /usr/local/lib/python3.10/dist-packages (from shap) (0.0.7)\n",
            "Requirement already satisfied: numba in /usr/local/lib/python3.10/dist-packages (from shap) (0.58.1)\n",
            "Requirement already satisfied: cloudpickle in /usr/local/lib/python3.10/dist-packages (from shap) (2.2.1)\n",
            "Requirement already satisfied: llvmlite<0.42,>=0.41.0dev0 in /usr/local/lib/python3.10/dist-packages (from numba->shap) (0.41.1)\n",
            "Requirement already satisfied: python-dateutil>=2.8.1 in /usr/local/lib/python3.10/dist-packages (from pandas->shap) (2.8.2)\n",
            "Requirement already satisfied: pytz>=2020.1 in /usr/local/lib/python3.10/dist-packages (from pandas->shap) (2023.4)\n",
            "Requirement already satisfied: joblib>=1.1.1 in /usr/local/lib/python3.10/dist-packages (from scikit-learn->shap) (1.3.2)\n",
            "Requirement already satisfied: threadpoolctl>=2.0.0 in /usr/local/lib/python3.10/dist-packages (from scikit-learn->shap) (3.2.0)\n",
            "Requirement already satisfied: six>=1.5 in /usr/local/lib/python3.10/dist-packages (from python-dateutil>=2.8.1->pandas->shap) (1.16.0)\n"
          ]
        }
      ],
      "source": [
        "!pip install shap"
      ]
    },
    {
      "cell_type": "code",
      "source": [
        "!pip install colorama"
      ],
      "metadata": {
        "colab": {
          "base_uri": "https://localhost:8080/"
        },
        "id": "KxBH67_eYIP6",
        "outputId": "7c44d407-4ceb-46f8-ad76-3121b4c248a9"
      },
      "execution_count": 4,
      "outputs": [
        {
          "output_type": "stream",
          "name": "stdout",
          "text": [
            "Requirement already satisfied: colorama in /usr/local/lib/python3.10/dist-packages (0.4.6)\n"
          ]
        }
      ]
    },
    {
      "cell_type": "code",
      "source": [
        "!pip install catboost"
      ],
      "metadata": {
        "colab": {
          "base_uri": "https://localhost:8080/"
        },
        "id": "fIXtCDOaYxOt",
        "outputId": "766f883b-0f6f-48dd-d4b0-0d0313b6036e"
      },
      "execution_count": 5,
      "outputs": [
        {
          "output_type": "stream",
          "name": "stdout",
          "text": [
            "Requirement already satisfied: catboost in /usr/local/lib/python3.10/dist-packages (1.2.2)\n",
            "Requirement already satisfied: graphviz in /usr/local/lib/python3.10/dist-packages (from catboost) (0.20.1)\n",
            "Requirement already satisfied: matplotlib in /usr/local/lib/python3.10/dist-packages (from catboost) (3.7.1)\n",
            "Requirement already satisfied: numpy>=1.16.0 in /usr/local/lib/python3.10/dist-packages (from catboost) (1.23.5)\n",
            "Requirement already satisfied: pandas>=0.24 in /usr/local/lib/python3.10/dist-packages (from catboost) (1.5.3)\n",
            "Requirement already satisfied: scipy in /usr/local/lib/python3.10/dist-packages (from catboost) (1.11.4)\n",
            "Requirement already satisfied: plotly in /usr/local/lib/python3.10/dist-packages (from catboost) (5.15.0)\n",
            "Requirement already satisfied: six in /usr/local/lib/python3.10/dist-packages (from catboost) (1.16.0)\n",
            "Requirement already satisfied: python-dateutil>=2.8.1 in /usr/local/lib/python3.10/dist-packages (from pandas>=0.24->catboost) (2.8.2)\n",
            "Requirement already satisfied: pytz>=2020.1 in /usr/local/lib/python3.10/dist-packages (from pandas>=0.24->catboost) (2023.4)\n",
            "Requirement already satisfied: contourpy>=1.0.1 in /usr/local/lib/python3.10/dist-packages (from matplotlib->catboost) (1.2.0)\n",
            "Requirement already satisfied: cycler>=0.10 in /usr/local/lib/python3.10/dist-packages (from matplotlib->catboost) (0.12.1)\n",
            "Requirement already satisfied: fonttools>=4.22.0 in /usr/local/lib/python3.10/dist-packages (from matplotlib->catboost) (4.47.2)\n",
            "Requirement already satisfied: kiwisolver>=1.0.1 in /usr/local/lib/python3.10/dist-packages (from matplotlib->catboost) (1.4.5)\n",
            "Requirement already satisfied: packaging>=20.0 in /usr/local/lib/python3.10/dist-packages (from matplotlib->catboost) (23.2)\n",
            "Requirement already satisfied: pillow>=6.2.0 in /usr/local/lib/python3.10/dist-packages (from matplotlib->catboost) (9.4.0)\n",
            "Requirement already satisfied: pyparsing>=2.3.1 in /usr/local/lib/python3.10/dist-packages (from matplotlib->catboost) (3.1.1)\n",
            "Requirement already satisfied: tenacity>=6.2.0 in /usr/local/lib/python3.10/dist-packages (from plotly->catboost) (8.2.3)\n"
          ]
        }
      ]
    },
    {
      "cell_type": "code",
      "source": [
        "!pip install category_encoders"
      ],
      "metadata": {
        "colab": {
          "base_uri": "https://localhost:8080/"
        },
        "id": "Gk57Mh0EY0PN",
        "outputId": "c06fe316-916d-4693-d628-1fcfe9a56f97"
      },
      "execution_count": 6,
      "outputs": [
        {
          "output_type": "stream",
          "name": "stdout",
          "text": [
            "Requirement already satisfied: category_encoders in /usr/local/lib/python3.10/dist-packages (2.6.3)\n",
            "Requirement already satisfied: numpy>=1.14.0 in /usr/local/lib/python3.10/dist-packages (from category_encoders) (1.23.5)\n",
            "Requirement already satisfied: scikit-learn>=0.20.0 in /usr/local/lib/python3.10/dist-packages (from category_encoders) (1.2.2)\n",
            "Requirement already satisfied: scipy>=1.0.0 in /usr/local/lib/python3.10/dist-packages (from category_encoders) (1.11.4)\n",
            "Requirement already satisfied: statsmodels>=0.9.0 in /usr/local/lib/python3.10/dist-packages (from category_encoders) (0.14.1)\n",
            "Requirement already satisfied: pandas>=1.0.5 in /usr/local/lib/python3.10/dist-packages (from category_encoders) (1.5.3)\n",
            "Requirement already satisfied: patsy>=0.5.1 in /usr/local/lib/python3.10/dist-packages (from category_encoders) (0.5.6)\n",
            "Requirement already satisfied: python-dateutil>=2.8.1 in /usr/local/lib/python3.10/dist-packages (from pandas>=1.0.5->category_encoders) (2.8.2)\n",
            "Requirement already satisfied: pytz>=2020.1 in /usr/local/lib/python3.10/dist-packages (from pandas>=1.0.5->category_encoders) (2023.4)\n",
            "Requirement already satisfied: six in /usr/local/lib/python3.10/dist-packages (from patsy>=0.5.1->category_encoders) (1.16.0)\n",
            "Requirement already satisfied: joblib>=1.1.1 in /usr/local/lib/python3.10/dist-packages (from scikit-learn>=0.20.0->category_encoders) (1.3.2)\n",
            "Requirement already satisfied: threadpoolctl>=2.0.0 in /usr/local/lib/python3.10/dist-packages (from scikit-learn>=0.20.0->category_encoders) (3.2.0)\n",
            "Requirement already satisfied: packaging>=21.3 in /usr/local/lib/python3.10/dist-packages (from statsmodels>=0.9.0->category_encoders) (23.2)\n"
          ]
        }
      ]
    },
    {
      "cell_type": "code",
      "source": [
        "!pip install optuna"
      ],
      "metadata": {
        "colab": {
          "base_uri": "https://localhost:8080/"
        },
        "id": "ECfQMltLY48i",
        "outputId": "cd5404b5-ac15-45ba-a903-acd89024ad3b"
      },
      "execution_count": 7,
      "outputs": [
        {
          "output_type": "stream",
          "name": "stdout",
          "text": [
            "Requirement already satisfied: optuna in /usr/local/lib/python3.10/dist-packages (3.5.0)\n",
            "Requirement already satisfied: alembic>=1.5.0 in /usr/local/lib/python3.10/dist-packages (from optuna) (1.13.1)\n",
            "Requirement already satisfied: colorlog in /usr/local/lib/python3.10/dist-packages (from optuna) (6.8.2)\n",
            "Requirement already satisfied: numpy in /usr/local/lib/python3.10/dist-packages (from optuna) (1.23.5)\n",
            "Requirement already satisfied: packaging>=20.0 in /usr/local/lib/python3.10/dist-packages (from optuna) (23.2)\n",
            "Requirement already satisfied: sqlalchemy>=1.3.0 in /usr/local/lib/python3.10/dist-packages (from optuna) (2.0.24)\n",
            "Requirement already satisfied: tqdm in /usr/local/lib/python3.10/dist-packages (from optuna) (4.66.1)\n",
            "Requirement already satisfied: PyYAML in /usr/local/lib/python3.10/dist-packages (from optuna) (6.0.1)\n",
            "Requirement already satisfied: Mako in /usr/local/lib/python3.10/dist-packages (from alembic>=1.5.0->optuna) (1.3.2)\n",
            "Requirement already satisfied: typing-extensions>=4 in /usr/local/lib/python3.10/dist-packages (from alembic>=1.5.0->optuna) (4.5.0)\n",
            "Requirement already satisfied: greenlet!=0.4.17 in /usr/local/lib/python3.10/dist-packages (from sqlalchemy>=1.3.0->optuna) (3.0.3)\n",
            "Requirement already satisfied: MarkupSafe>=0.9.2 in /usr/local/lib/python3.10/dist-packages (from Mako->alembic>=1.5.0->optuna) (2.1.4)\n"
          ]
        }
      ]
    },
    {
      "cell_type": "code",
      "source": [
        "# Import necessary libraries\n",
        "import numpy as np\n",
        "import pandas as pd\n",
        "import matplotlib.pyplot as plt\n",
        "import seaborn as sns\n",
        "import random\n",
        "import os\n",
        "from copy import deepcopy\n",
        "from functools import partial\n",
        "from itertools import combinations\n",
        "import random\n",
        "import gc\n",
        "\n",
        "# Import sklearn classes for model selection, cross validation, and performance evaluation\n",
        "from sklearn.base import BaseEstimator, TransformerMixin\n",
        "from sklearn.model_selection import train_test_split\n",
        "from sklearn.model_selection import StratifiedKFold, KFold\n",
        "from sklearn.metrics import roc_auc_score, accuracy_score, log_loss, roc_curve\n",
        "from sklearn.preprocessing import StandardScaler, OrdinalEncoder, LabelEncoder\n",
        "import seaborn as sns\n",
        "from category_encoders import OneHotEncoder, CountEncoder, CatBoostEncoder\n",
        "from imblearn.under_sampling import RandomUnderSampler\n",
        "\n",
        "# Import libraries for Hypertuning\n",
        "import optuna\n",
        "\n",
        "# Import libraries for gradient boosting\n",
        "import xgboost as xgb\n",
        "import lightgbm as lgb\n",
        "import xgboost as xgb\n",
        "import lightgbm as lgb\n",
        "from sklearn.ensemble import RandomForestClassifier, HistGradientBoostingClassifier, GradientBoostingClassifier\n",
        "from imblearn.ensemble import BalancedRandomForestClassifier\n",
        "from sklearn.svm import NuSVC, SVC\n",
        "from sklearn.neighbors import KNeighborsClassifier\n",
        "from sklearn.linear_model import LogisticRegression\n",
        "from sklearn.neural_network import MLPClassifier\n",
        "from sklearn.gaussian_process import GaussianProcessClassifier\n",
        "from sklearn.gaussian_process.kernels import RBF\n",
        "from catboost import CatBoost, CatBoostRegressor, CatBoostClassifier\n",
        "from catboost import Pool\n",
        "\n",
        "# Suppress warnings\n",
        "import warnings\n",
        "warnings.filterwarnings(\"ignore\", category=UserWarning)\n",
        "import shap"
      ],
      "metadata": {
        "id": "aHE5NlooYLfR"
      },
      "execution_count": 8,
      "outputs": []
    },
    {
      "cell_type": "code",
      "source": [
        "rc = {\n",
        "    \"axes.facecolor\": \"#F8F8F8\",\n",
        "    \"figure.facecolor\": \"#F8F8F8\",\n",
        "    \"axes.edgecolor\": \"#000000\",\n",
        "    \"grid.color\": \"#EBEBE7\" + \"30\",\n",
        "    \"font.family\": \"serif\",\n",
        "    \"axes.labelcolor\": \"#000000\",\n",
        "    \"xtick.color\": \"#000000\",\n",
        "    \"ytick.color\": \"#000000\",\n",
        "    \"grid.alpha\": 0.4,\n",
        "}\n",
        "\n",
        "sns.set(rc=rc)\n",
        "palette = ['#302c36', '#037d97', '#E4591E', '#C09741',\n",
        "           '#EC5B6D', '#90A6B1', '#6ca957', '#D8E3E2', '#fee08b',\n",
        "           '#66c2a5', '#5e4fa2']\n",
        "\n",
        "from colorama import Style, Fore\n",
        "blk = Style.BRIGHT + Fore.BLACK\n",
        "mgt = Style.BRIGHT + Fore.MAGENTA\n",
        "red = Style.BRIGHT + Fore.RED\n",
        "blu = Style.BRIGHT + Fore.BLUE\n",
        "res = Style.RESET_ALL\n",
        "\n",
        "plt.style.use('fivethirtyeight')"
      ],
      "metadata": {
        "id": "5EOtLliPYQ-C"
      },
      "execution_count": 9,
      "outputs": []
    },
    {
      "cell_type": "markdown",
      "source": [
        " We have the following features in our dataframes\n",
        "\n",
        " 1. Gender\n",
        " 2. Age\n",
        " 3. Height\n",
        " 4. Weight\n",
        " 5. Frequent consumption of high caloric food (FAVC)\n",
        " 6. Frequency of consumption of vegetables (FCVC)\n",
        " 7. Number of main meals (NCP)\n",
        " 8. Consumption of food between meals (CAEC)\n",
        " 9. Consumption of water daily (CH20)\n",
        " 10. Consumption of alcohol (CALC)\n",
        " 11. Calories consumption monitoring (SCC)\n",
        " 12. Physical activity frequency (FAF)\n",
        " 13. Time using technology devices (TUE)\n",
        " 14. Transportation used (MTRANS)\n",
        " 15. family_history_with_overweight\n",
        " 16. SMOKE\n",
        "\n",
        "<b> Target Variable: </b><br>\n",
        "NObesity values are:<br>\n",
        "<li> Underweight Less than 18.5 </li>\n",
        "<li>    Normal 18.5 to 24.9 </li>\n",
        "<li>   Overweight 25.0 to 29.9 </li>\n",
        "<li>    Obesity I 30.0 to 34.9 </li>\n",
        "<li>    Obesity II 35.0 to 39.9 </li>\n",
        "<li>    Obesity III Higher than 40 </li>"
      ],
      "metadata": {
        "id": "CNCbwWvuKb0s"
      }
    },
    {
      "cell_type": "code",
      "source": [
        "train_data = pd.read_csv('/content/drive/MyDrive/Colab_Data/Kaggle_PGS_S4E2/train.csv', index_col=[0])\n",
        "test_data = pd.read_csv('/content/drive/MyDrive/Colab_Data/Kaggle_PGS_S4E2/test.csv', index_col=[0])\n",
        "original_data = pd.read_csv('/content/drive/MyDrive/Colab_Data/Kaggle_PGS_S4E2/ObesityDataSet.csv')\n",
        "\n",
        "#train_data['is_generated'] = 1\n",
        "#test_data['is_generated'] = 1\n",
        "#original_data['is_generated'] = 0\n",
        "\n",
        "original_data = original_data.reset_index()\n",
        "original_data['id'] = original_data['index'] + test_data.index[-1] + 1\n",
        "original_data = original_data.drop(columns = ['index']).set_index('id')\n",
        "\n",
        "target = 'NObeyesdad'"
      ],
      "metadata": {
        "id": "Y62YtGohYRoa"
      },
      "execution_count": 10,
      "outputs": []
    },
    {
      "cell_type": "code",
      "source": [
        "train_data.head(3)"
      ],
      "metadata": {
        "colab": {
          "base_uri": "https://localhost:8080/",
          "height": 195
        },
        "id": "jww-XYF7vgs4",
        "outputId": "5184bafa-7e69-4961-af5e-0fdca2cf235b"
      },
      "execution_count": 11,
      "outputs": [
        {
          "output_type": "execute_result",
          "data": {
            "text/plain": [
              "    Gender        Age    Height     Weight family_history_with_overweight  \\\n",
              "id                                                                          \n",
              "0     Male  24.443011  1.699998  81.669950                            yes   \n",
              "1   Female  18.000000  1.560000  57.000000                            yes   \n",
              "2   Female  18.000000  1.711460  50.165754                            yes   \n",
              "\n",
              "   FAVC      FCVC       NCP        CAEC SMOKE      CH2O SCC       FAF  \\\n",
              "id                                                                      \n",
              "0   yes  2.000000  2.983297   Sometimes    no  2.763573  no  0.000000   \n",
              "1   yes  2.000000  3.000000  Frequently    no  2.000000  no  1.000000   \n",
              "2   yes  1.880534  1.411685   Sometimes    no  1.910378  no  0.866045   \n",
              "\n",
              "         TUE       CALC                 MTRANS           NObeyesdad  \n",
              "id                                                                   \n",
              "0   0.976473  Sometimes  Public_Transportation  Overweight_Level_II  \n",
              "1   1.000000         no             Automobile        Normal_Weight  \n",
              "2   1.673584         no  Public_Transportation  Insufficient_Weight  "
            ],
            "text/html": [
              "\n",
              "  <div id=\"df-7f17d3d1-2159-4399-8c3f-4ef84708c1aa\" class=\"colab-df-container\">\n",
              "    <div>\n",
              "<style scoped>\n",
              "    .dataframe tbody tr th:only-of-type {\n",
              "        vertical-align: middle;\n",
              "    }\n",
              "\n",
              "    .dataframe tbody tr th {\n",
              "        vertical-align: top;\n",
              "    }\n",
              "\n",
              "    .dataframe thead th {\n",
              "        text-align: right;\n",
              "    }\n",
              "</style>\n",
              "<table border=\"1\" class=\"dataframe\">\n",
              "  <thead>\n",
              "    <tr style=\"text-align: right;\">\n",
              "      <th></th>\n",
              "      <th>Gender</th>\n",
              "      <th>Age</th>\n",
              "      <th>Height</th>\n",
              "      <th>Weight</th>\n",
              "      <th>family_history_with_overweight</th>\n",
              "      <th>FAVC</th>\n",
              "      <th>FCVC</th>\n",
              "      <th>NCP</th>\n",
              "      <th>CAEC</th>\n",
              "      <th>SMOKE</th>\n",
              "      <th>CH2O</th>\n",
              "      <th>SCC</th>\n",
              "      <th>FAF</th>\n",
              "      <th>TUE</th>\n",
              "      <th>CALC</th>\n",
              "      <th>MTRANS</th>\n",
              "      <th>NObeyesdad</th>\n",
              "    </tr>\n",
              "    <tr>\n",
              "      <th>id</th>\n",
              "      <th></th>\n",
              "      <th></th>\n",
              "      <th></th>\n",
              "      <th></th>\n",
              "      <th></th>\n",
              "      <th></th>\n",
              "      <th></th>\n",
              "      <th></th>\n",
              "      <th></th>\n",
              "      <th></th>\n",
              "      <th></th>\n",
              "      <th></th>\n",
              "      <th></th>\n",
              "      <th></th>\n",
              "      <th></th>\n",
              "      <th></th>\n",
              "      <th></th>\n",
              "    </tr>\n",
              "  </thead>\n",
              "  <tbody>\n",
              "    <tr>\n",
              "      <th>0</th>\n",
              "      <td>Male</td>\n",
              "      <td>24.443011</td>\n",
              "      <td>1.699998</td>\n",
              "      <td>81.669950</td>\n",
              "      <td>yes</td>\n",
              "      <td>yes</td>\n",
              "      <td>2.000000</td>\n",
              "      <td>2.983297</td>\n",
              "      <td>Sometimes</td>\n",
              "      <td>no</td>\n",
              "      <td>2.763573</td>\n",
              "      <td>no</td>\n",
              "      <td>0.000000</td>\n",
              "      <td>0.976473</td>\n",
              "      <td>Sometimes</td>\n",
              "      <td>Public_Transportation</td>\n",
              "      <td>Overweight_Level_II</td>\n",
              "    </tr>\n",
              "    <tr>\n",
              "      <th>1</th>\n",
              "      <td>Female</td>\n",
              "      <td>18.000000</td>\n",
              "      <td>1.560000</td>\n",
              "      <td>57.000000</td>\n",
              "      <td>yes</td>\n",
              "      <td>yes</td>\n",
              "      <td>2.000000</td>\n",
              "      <td>3.000000</td>\n",
              "      <td>Frequently</td>\n",
              "      <td>no</td>\n",
              "      <td>2.000000</td>\n",
              "      <td>no</td>\n",
              "      <td>1.000000</td>\n",
              "      <td>1.000000</td>\n",
              "      <td>no</td>\n",
              "      <td>Automobile</td>\n",
              "      <td>Normal_Weight</td>\n",
              "    </tr>\n",
              "    <tr>\n",
              "      <th>2</th>\n",
              "      <td>Female</td>\n",
              "      <td>18.000000</td>\n",
              "      <td>1.711460</td>\n",
              "      <td>50.165754</td>\n",
              "      <td>yes</td>\n",
              "      <td>yes</td>\n",
              "      <td>1.880534</td>\n",
              "      <td>1.411685</td>\n",
              "      <td>Sometimes</td>\n",
              "      <td>no</td>\n",
              "      <td>1.910378</td>\n",
              "      <td>no</td>\n",
              "      <td>0.866045</td>\n",
              "      <td>1.673584</td>\n",
              "      <td>no</td>\n",
              "      <td>Public_Transportation</td>\n",
              "      <td>Insufficient_Weight</td>\n",
              "    </tr>\n",
              "  </tbody>\n",
              "</table>\n",
              "</div>\n",
              "    <div class=\"colab-df-buttons\">\n",
              "\n",
              "  <div class=\"colab-df-container\">\n",
              "    <button class=\"colab-df-convert\" onclick=\"convertToInteractive('df-7f17d3d1-2159-4399-8c3f-4ef84708c1aa')\"\n",
              "            title=\"Convert this dataframe to an interactive table.\"\n",
              "            style=\"display:none;\">\n",
              "\n",
              "  <svg xmlns=\"http://www.w3.org/2000/svg\" height=\"24px\" viewBox=\"0 -960 960 960\">\n",
              "    <path d=\"M120-120v-720h720v720H120Zm60-500h600v-160H180v160Zm220 220h160v-160H400v160Zm0 220h160v-160H400v160ZM180-400h160v-160H180v160Zm440 0h160v-160H620v160ZM180-180h160v-160H180v160Zm440 0h160v-160H620v160Z\"/>\n",
              "  </svg>\n",
              "    </button>\n",
              "\n",
              "  <style>\n",
              "    .colab-df-container {\n",
              "      display:flex;\n",
              "      gap: 12px;\n",
              "    }\n",
              "\n",
              "    .colab-df-convert {\n",
              "      background-color: #E8F0FE;\n",
              "      border: none;\n",
              "      border-radius: 50%;\n",
              "      cursor: pointer;\n",
              "      display: none;\n",
              "      fill: #1967D2;\n",
              "      height: 32px;\n",
              "      padding: 0 0 0 0;\n",
              "      width: 32px;\n",
              "    }\n",
              "\n",
              "    .colab-df-convert:hover {\n",
              "      background-color: #E2EBFA;\n",
              "      box-shadow: 0px 1px 2px rgba(60, 64, 67, 0.3), 0px 1px 3px 1px rgba(60, 64, 67, 0.15);\n",
              "      fill: #174EA6;\n",
              "    }\n",
              "\n",
              "    .colab-df-buttons div {\n",
              "      margin-bottom: 4px;\n",
              "    }\n",
              "\n",
              "    [theme=dark] .colab-df-convert {\n",
              "      background-color: #3B4455;\n",
              "      fill: #D2E3FC;\n",
              "    }\n",
              "\n",
              "    [theme=dark] .colab-df-convert:hover {\n",
              "      background-color: #434B5C;\n",
              "      box-shadow: 0px 1px 3px 1px rgba(0, 0, 0, 0.15);\n",
              "      filter: drop-shadow(0px 1px 2px rgba(0, 0, 0, 0.3));\n",
              "      fill: #FFFFFF;\n",
              "    }\n",
              "  </style>\n",
              "\n",
              "    <script>\n",
              "      const buttonEl =\n",
              "        document.querySelector('#df-7f17d3d1-2159-4399-8c3f-4ef84708c1aa button.colab-df-convert');\n",
              "      buttonEl.style.display =\n",
              "        google.colab.kernel.accessAllowed ? 'block' : 'none';\n",
              "\n",
              "      async function convertToInteractive(key) {\n",
              "        const element = document.querySelector('#df-7f17d3d1-2159-4399-8c3f-4ef84708c1aa');\n",
              "        const dataTable =\n",
              "          await google.colab.kernel.invokeFunction('convertToInteractive',\n",
              "                                                    [key], {});\n",
              "        if (!dataTable) return;\n",
              "\n",
              "        const docLinkHtml = 'Like what you see? Visit the ' +\n",
              "          '<a target=\"_blank\" href=https://colab.research.google.com/notebooks/data_table.ipynb>data table notebook</a>'\n",
              "          + ' to learn more about interactive tables.';\n",
              "        element.innerHTML = '';\n",
              "        dataTable['output_type'] = 'display_data';\n",
              "        await google.colab.output.renderOutput(dataTable, element);\n",
              "        const docLink = document.createElement('div');\n",
              "        docLink.innerHTML = docLinkHtml;\n",
              "        element.appendChild(docLink);\n",
              "      }\n",
              "    </script>\n",
              "  </div>\n",
              "\n",
              "\n",
              "<div id=\"df-a1b47f58-e3af-48eb-bd1e-a01c7fe64e51\">\n",
              "  <button class=\"colab-df-quickchart\" onclick=\"quickchart('df-a1b47f58-e3af-48eb-bd1e-a01c7fe64e51')\"\n",
              "            title=\"Suggest charts\"\n",
              "            style=\"display:none;\">\n",
              "\n",
              "<svg xmlns=\"http://www.w3.org/2000/svg\" height=\"24px\"viewBox=\"0 0 24 24\"\n",
              "     width=\"24px\">\n",
              "    <g>\n",
              "        <path d=\"M19 3H5c-1.1 0-2 .9-2 2v14c0 1.1.9 2 2 2h14c1.1 0 2-.9 2-2V5c0-1.1-.9-2-2-2zM9 17H7v-7h2v7zm4 0h-2V7h2v10zm4 0h-2v-4h2v4z\"/>\n",
              "    </g>\n",
              "</svg>\n",
              "  </button>\n",
              "\n",
              "<style>\n",
              "  .colab-df-quickchart {\n",
              "      --bg-color: #E8F0FE;\n",
              "      --fill-color: #1967D2;\n",
              "      --hover-bg-color: #E2EBFA;\n",
              "      --hover-fill-color: #174EA6;\n",
              "      --disabled-fill-color: #AAA;\n",
              "      --disabled-bg-color: #DDD;\n",
              "  }\n",
              "\n",
              "  [theme=dark] .colab-df-quickchart {\n",
              "      --bg-color: #3B4455;\n",
              "      --fill-color: #D2E3FC;\n",
              "      --hover-bg-color: #434B5C;\n",
              "      --hover-fill-color: #FFFFFF;\n",
              "      --disabled-bg-color: #3B4455;\n",
              "      --disabled-fill-color: #666;\n",
              "  }\n",
              "\n",
              "  .colab-df-quickchart {\n",
              "    background-color: var(--bg-color);\n",
              "    border: none;\n",
              "    border-radius: 50%;\n",
              "    cursor: pointer;\n",
              "    display: none;\n",
              "    fill: var(--fill-color);\n",
              "    height: 32px;\n",
              "    padding: 0;\n",
              "    width: 32px;\n",
              "  }\n",
              "\n",
              "  .colab-df-quickchart:hover {\n",
              "    background-color: var(--hover-bg-color);\n",
              "    box-shadow: 0 1px 2px rgba(60, 64, 67, 0.3), 0 1px 3px 1px rgba(60, 64, 67, 0.15);\n",
              "    fill: var(--button-hover-fill-color);\n",
              "  }\n",
              "\n",
              "  .colab-df-quickchart-complete:disabled,\n",
              "  .colab-df-quickchart-complete:disabled:hover {\n",
              "    background-color: var(--disabled-bg-color);\n",
              "    fill: var(--disabled-fill-color);\n",
              "    box-shadow: none;\n",
              "  }\n",
              "\n",
              "  .colab-df-spinner {\n",
              "    border: 2px solid var(--fill-color);\n",
              "    border-color: transparent;\n",
              "    border-bottom-color: var(--fill-color);\n",
              "    animation:\n",
              "      spin 1s steps(1) infinite;\n",
              "  }\n",
              "\n",
              "  @keyframes spin {\n",
              "    0% {\n",
              "      border-color: transparent;\n",
              "      border-bottom-color: var(--fill-color);\n",
              "      border-left-color: var(--fill-color);\n",
              "    }\n",
              "    20% {\n",
              "      border-color: transparent;\n",
              "      border-left-color: var(--fill-color);\n",
              "      border-top-color: var(--fill-color);\n",
              "    }\n",
              "    30% {\n",
              "      border-color: transparent;\n",
              "      border-left-color: var(--fill-color);\n",
              "      border-top-color: var(--fill-color);\n",
              "      border-right-color: var(--fill-color);\n",
              "    }\n",
              "    40% {\n",
              "      border-color: transparent;\n",
              "      border-right-color: var(--fill-color);\n",
              "      border-top-color: var(--fill-color);\n",
              "    }\n",
              "    60% {\n",
              "      border-color: transparent;\n",
              "      border-right-color: var(--fill-color);\n",
              "    }\n",
              "    80% {\n",
              "      border-color: transparent;\n",
              "      border-right-color: var(--fill-color);\n",
              "      border-bottom-color: var(--fill-color);\n",
              "    }\n",
              "    90% {\n",
              "      border-color: transparent;\n",
              "      border-bottom-color: var(--fill-color);\n",
              "    }\n",
              "  }\n",
              "</style>\n",
              "\n",
              "  <script>\n",
              "    async function quickchart(key) {\n",
              "      const quickchartButtonEl =\n",
              "        document.querySelector('#' + key + ' button');\n",
              "      quickchartButtonEl.disabled = true;  // To prevent multiple clicks.\n",
              "      quickchartButtonEl.classList.add('colab-df-spinner');\n",
              "      try {\n",
              "        const charts = await google.colab.kernel.invokeFunction(\n",
              "            'suggestCharts', [key], {});\n",
              "      } catch (error) {\n",
              "        console.error('Error during call to suggestCharts:', error);\n",
              "      }\n",
              "      quickchartButtonEl.classList.remove('colab-df-spinner');\n",
              "      quickchartButtonEl.classList.add('colab-df-quickchart-complete');\n",
              "    }\n",
              "    (() => {\n",
              "      let quickchartButtonEl =\n",
              "        document.querySelector('#df-a1b47f58-e3af-48eb-bd1e-a01c7fe64e51 button');\n",
              "      quickchartButtonEl.style.display =\n",
              "        google.colab.kernel.accessAllowed ? 'block' : 'none';\n",
              "    })();\n",
              "  </script>\n",
              "</div>\n",
              "    </div>\n",
              "  </div>\n"
            ]
          },
          "metadata": {},
          "execution_count": 11
        }
      ]
    },
    {
      "cell_type": "code",
      "source": [
        "def stats(df):\n",
        "  desc = df.describe().T.style.background_gradient()\n",
        "  display(desc)\n",
        "  #return desc"
      ],
      "metadata": {
        "id": "XLvzpAlQv-K4"
      },
      "execution_count": 12,
      "outputs": []
    },
    {
      "cell_type": "code",
      "source": [
        "stats(train_data)"
      ],
      "metadata": {
        "colab": {
          "base_uri": "https://localhost:8080/",
          "height": 300
        },
        "id": "kH_oNaL3JEGx",
        "outputId": "f97aa06e-86da-457e-ff40-4c094ec3716c"
      },
      "execution_count": 13,
      "outputs": [
        {
          "output_type": "display_data",
          "data": {
            "text/plain": [
              "<pandas.io.formats.style.Styler at 0x7ef5f04ceda0>"
            ],
            "text/html": [
              "<style type=\"text/css\">\n",
              "#T_e16b3_row0_col0, #T_e16b3_row1_col0, #T_e16b3_row1_col2, #T_e16b3_row1_col7, #T_e16b3_row2_col0, #T_e16b3_row3_col0, #T_e16b3_row4_col0, #T_e16b3_row5_col0, #T_e16b3_row6_col0, #T_e16b3_row6_col3, #T_e16b3_row6_col4, #T_e16b3_row7_col0, #T_e16b3_row7_col1, #T_e16b3_row7_col3, #T_e16b3_row7_col4, #T_e16b3_row7_col5, #T_e16b3_row7_col6, #T_e16b3_row7_col7 {\n",
              "  background-color: #fff7fb;\n",
              "  color: #000000;\n",
              "}\n",
              "#T_e16b3_row0_col1, #T_e16b3_row0_col5 {\n",
              "  background-color: #cacee5;\n",
              "  color: #000000;\n",
              "}\n",
              "#T_e16b3_row0_col2 {\n",
              "  background-color: #d9d8ea;\n",
              "  color: #000000;\n",
              "}\n",
              "#T_e16b3_row0_col3 {\n",
              "  background-color: #acc0dd;\n",
              "  color: #000000;\n",
              "}\n",
              "#T_e16b3_row0_col4 {\n",
              "  background-color: #bfc9e1;\n",
              "  color: #000000;\n",
              "}\n",
              "#T_e16b3_row0_col6 {\n",
              "  background-color: #d6d6e9;\n",
              "  color: #000000;\n",
              "}\n",
              "#T_e16b3_row0_col7 {\n",
              "  background-color: #abbfdc;\n",
              "  color: #000000;\n",
              "}\n",
              "#T_e16b3_row1_col1, #T_e16b3_row1_col5, #T_e16b3_row3_col2, #T_e16b3_row3_col6, #T_e16b3_row4_col6, #T_e16b3_row4_col7, #T_e16b3_row5_col1, #T_e16b3_row5_col5, #T_e16b3_row5_col6 {\n",
              "  background-color: #fdf5fa;\n",
              "  color: #000000;\n",
              "}\n",
              "#T_e16b3_row1_col3 {\n",
              "  background-color: #faf2f8;\n",
              "  color: #000000;\n",
              "}\n",
              "#T_e16b3_row1_col4, #T_e16b3_row3_col3, #T_e16b3_row4_col1, #T_e16b3_row4_col2, #T_e16b3_row4_col3, #T_e16b3_row5_col3, #T_e16b3_row5_col4 {\n",
              "  background-color: #fbf4f9;\n",
              "  color: #000000;\n",
              "}\n",
              "#T_e16b3_row1_col6, #T_e16b3_row3_col7, #T_e16b3_row5_col7, #T_e16b3_row6_col1, #T_e16b3_row6_col5, #T_e16b3_row6_col6, #T_e16b3_row6_col7 {\n",
              "  background-color: #fef6fb;\n",
              "  color: #000000;\n",
              "}\n",
              "#T_e16b3_row2_col1, #T_e16b3_row2_col2, #T_e16b3_row2_col3, #T_e16b3_row2_col4, #T_e16b3_row2_col5, #T_e16b3_row2_col6, #T_e16b3_row2_col7 {\n",
              "  background-color: #023858;\n",
              "  color: #f1f1f1;\n",
              "}\n",
              "#T_e16b3_row3_col1, #T_e16b3_row3_col5, #T_e16b3_row5_col2, #T_e16b3_row7_col2 {\n",
              "  background-color: #fcf4fa;\n",
              "  color: #000000;\n",
              "}\n",
              "#T_e16b3_row3_col4, #T_e16b3_row4_col5, #T_e16b3_row6_col2 {\n",
              "  background-color: #fbf3f9;\n",
              "  color: #000000;\n",
              "}\n",
              "#T_e16b3_row4_col4 {\n",
              "  background-color: #f8f1f8;\n",
              "  color: #000000;\n",
              "}\n",
              "</style>\n",
              "<table id=\"T_e16b3\" class=\"dataframe\">\n",
              "  <thead>\n",
              "    <tr>\n",
              "      <th class=\"blank level0\" >&nbsp;</th>\n",
              "      <th id=\"T_e16b3_level0_col0\" class=\"col_heading level0 col0\" >count</th>\n",
              "      <th id=\"T_e16b3_level0_col1\" class=\"col_heading level0 col1\" >mean</th>\n",
              "      <th id=\"T_e16b3_level0_col2\" class=\"col_heading level0 col2\" >std</th>\n",
              "      <th id=\"T_e16b3_level0_col3\" class=\"col_heading level0 col3\" >min</th>\n",
              "      <th id=\"T_e16b3_level0_col4\" class=\"col_heading level0 col4\" >25%</th>\n",
              "      <th id=\"T_e16b3_level0_col5\" class=\"col_heading level0 col5\" >50%</th>\n",
              "      <th id=\"T_e16b3_level0_col6\" class=\"col_heading level0 col6\" >75%</th>\n",
              "      <th id=\"T_e16b3_level0_col7\" class=\"col_heading level0 col7\" >max</th>\n",
              "    </tr>\n",
              "  </thead>\n",
              "  <tbody>\n",
              "    <tr>\n",
              "      <th id=\"T_e16b3_level0_row0\" class=\"row_heading level0 row0\" >Age</th>\n",
              "      <td id=\"T_e16b3_row0_col0\" class=\"data row0 col0\" >20758.000000</td>\n",
              "      <td id=\"T_e16b3_row0_col1\" class=\"data row0 col1\" >23.841804</td>\n",
              "      <td id=\"T_e16b3_row0_col2\" class=\"data row0 col2\" >5.688072</td>\n",
              "      <td id=\"T_e16b3_row0_col3\" class=\"data row0 col3\" >14.000000</td>\n",
              "      <td id=\"T_e16b3_row0_col4\" class=\"data row0 col4\" >20.000000</td>\n",
              "      <td id=\"T_e16b3_row0_col5\" class=\"data row0 col5\" >22.815416</td>\n",
              "      <td id=\"T_e16b3_row0_col6\" class=\"data row0 col6\" >26.000000</td>\n",
              "      <td id=\"T_e16b3_row0_col7\" class=\"data row0 col7\" >61.000000</td>\n",
              "    </tr>\n",
              "    <tr>\n",
              "      <th id=\"T_e16b3_level0_row1\" class=\"row_heading level0 row1\" >Height</th>\n",
              "      <td id=\"T_e16b3_row1_col0\" class=\"data row1 col0\" >20758.000000</td>\n",
              "      <td id=\"T_e16b3_row1_col1\" class=\"data row1 col1\" >1.700245</td>\n",
              "      <td id=\"T_e16b3_row1_col2\" class=\"data row1 col2\" >0.087312</td>\n",
              "      <td id=\"T_e16b3_row1_col3\" class=\"data row1 col3\" >1.450000</td>\n",
              "      <td id=\"T_e16b3_row1_col4\" class=\"data row1 col4\" >1.631856</td>\n",
              "      <td id=\"T_e16b3_row1_col5\" class=\"data row1 col5\" >1.700000</td>\n",
              "      <td id=\"T_e16b3_row1_col6\" class=\"data row1 col6\" >1.762887</td>\n",
              "      <td id=\"T_e16b3_row1_col7\" class=\"data row1 col7\" >1.975663</td>\n",
              "    </tr>\n",
              "    <tr>\n",
              "      <th id=\"T_e16b3_level0_row2\" class=\"row_heading level0 row2\" >Weight</th>\n",
              "      <td id=\"T_e16b3_row2_col0\" class=\"data row2 col0\" >20758.000000</td>\n",
              "      <td id=\"T_e16b3_row2_col1\" class=\"data row2 col1\" >87.887768</td>\n",
              "      <td id=\"T_e16b3_row2_col2\" class=\"data row2 col2\" >26.379443</td>\n",
              "      <td id=\"T_e16b3_row2_col3\" class=\"data row2 col3\" >39.000000</td>\n",
              "      <td id=\"T_e16b3_row2_col4\" class=\"data row2 col4\" >66.000000</td>\n",
              "      <td id=\"T_e16b3_row2_col5\" class=\"data row2 col5\" >84.064875</td>\n",
              "      <td id=\"T_e16b3_row2_col6\" class=\"data row2 col6\" >111.600553</td>\n",
              "      <td id=\"T_e16b3_row2_col7\" class=\"data row2 col7\" >165.057269</td>\n",
              "    </tr>\n",
              "    <tr>\n",
              "      <th id=\"T_e16b3_level0_row3\" class=\"row_heading level0 row3\" >FCVC</th>\n",
              "      <td id=\"T_e16b3_row3_col0\" class=\"data row3 col0\" >20758.000000</td>\n",
              "      <td id=\"T_e16b3_row3_col1\" class=\"data row3 col1\" >2.445908</td>\n",
              "      <td id=\"T_e16b3_row3_col2\" class=\"data row3 col2\" >0.533218</td>\n",
              "      <td id=\"T_e16b3_row3_col3\" class=\"data row3 col3\" >1.000000</td>\n",
              "      <td id=\"T_e16b3_row3_col4\" class=\"data row3 col4\" >2.000000</td>\n",
              "      <td id=\"T_e16b3_row3_col5\" class=\"data row3 col5\" >2.393837</td>\n",
              "      <td id=\"T_e16b3_row3_col6\" class=\"data row3 col6\" >3.000000</td>\n",
              "      <td id=\"T_e16b3_row3_col7\" class=\"data row3 col7\" >3.000000</td>\n",
              "    </tr>\n",
              "    <tr>\n",
              "      <th id=\"T_e16b3_level0_row4\" class=\"row_heading level0 row4\" >NCP</th>\n",
              "      <td id=\"T_e16b3_row4_col0\" class=\"data row4 col0\" >20758.000000</td>\n",
              "      <td id=\"T_e16b3_row4_col1\" class=\"data row4 col1\" >2.761332</td>\n",
              "      <td id=\"T_e16b3_row4_col2\" class=\"data row4 col2\" >0.705375</td>\n",
              "      <td id=\"T_e16b3_row4_col3\" class=\"data row4 col3\" >1.000000</td>\n",
              "      <td id=\"T_e16b3_row4_col4\" class=\"data row4 col4\" >3.000000</td>\n",
              "      <td id=\"T_e16b3_row4_col5\" class=\"data row4 col5\" >3.000000</td>\n",
              "      <td id=\"T_e16b3_row4_col6\" class=\"data row4 col6\" >3.000000</td>\n",
              "      <td id=\"T_e16b3_row4_col7\" class=\"data row4 col7\" >4.000000</td>\n",
              "    </tr>\n",
              "    <tr>\n",
              "      <th id=\"T_e16b3_level0_row5\" class=\"row_heading level0 row5\" >CH2O</th>\n",
              "      <td id=\"T_e16b3_row5_col0\" class=\"data row5 col0\" >20758.000000</td>\n",
              "      <td id=\"T_e16b3_row5_col1\" class=\"data row5 col1\" >2.029418</td>\n",
              "      <td id=\"T_e16b3_row5_col2\" class=\"data row5 col2\" >0.608467</td>\n",
              "      <td id=\"T_e16b3_row5_col3\" class=\"data row5 col3\" >1.000000</td>\n",
              "      <td id=\"T_e16b3_row5_col4\" class=\"data row5 col4\" >1.792022</td>\n",
              "      <td id=\"T_e16b3_row5_col5\" class=\"data row5 col5\" >2.000000</td>\n",
              "      <td id=\"T_e16b3_row5_col6\" class=\"data row5 col6\" >2.549617</td>\n",
              "      <td id=\"T_e16b3_row5_col7\" class=\"data row5 col7\" >3.000000</td>\n",
              "    </tr>\n",
              "    <tr>\n",
              "      <th id=\"T_e16b3_level0_row6\" class=\"row_heading level0 row6\" >FAF</th>\n",
              "      <td id=\"T_e16b3_row6_col0\" class=\"data row6 col0\" >20758.000000</td>\n",
              "      <td id=\"T_e16b3_row6_col1\" class=\"data row6 col1\" >0.981747</td>\n",
              "      <td id=\"T_e16b3_row6_col2\" class=\"data row6 col2\" >0.838302</td>\n",
              "      <td id=\"T_e16b3_row6_col3\" class=\"data row6 col3\" >0.000000</td>\n",
              "      <td id=\"T_e16b3_row6_col4\" class=\"data row6 col4\" >0.008013</td>\n",
              "      <td id=\"T_e16b3_row6_col5\" class=\"data row6 col5\" >1.000000</td>\n",
              "      <td id=\"T_e16b3_row6_col6\" class=\"data row6 col6\" >1.587406</td>\n",
              "      <td id=\"T_e16b3_row6_col7\" class=\"data row6 col7\" >3.000000</td>\n",
              "    </tr>\n",
              "    <tr>\n",
              "      <th id=\"T_e16b3_level0_row7\" class=\"row_heading level0 row7\" >TUE</th>\n",
              "      <td id=\"T_e16b3_row7_col0\" class=\"data row7 col0\" >20758.000000</td>\n",
              "      <td id=\"T_e16b3_row7_col1\" class=\"data row7 col1\" >0.616756</td>\n",
              "      <td id=\"T_e16b3_row7_col2\" class=\"data row7 col2\" >0.602113</td>\n",
              "      <td id=\"T_e16b3_row7_col3\" class=\"data row7 col3\" >0.000000</td>\n",
              "      <td id=\"T_e16b3_row7_col4\" class=\"data row7 col4\" >0.000000</td>\n",
              "      <td id=\"T_e16b3_row7_col5\" class=\"data row7 col5\" >0.573887</td>\n",
              "      <td id=\"T_e16b3_row7_col6\" class=\"data row7 col6\" >1.000000</td>\n",
              "      <td id=\"T_e16b3_row7_col7\" class=\"data row7 col7\" >2.000000</td>\n",
              "    </tr>\n",
              "  </tbody>\n",
              "</table>\n"
            ]
          },
          "metadata": {}
        }
      ]
    },
    {
      "cell_type": "code",
      "source": [
        "stats_test = stats(test_data)"
      ],
      "metadata": {
        "colab": {
          "base_uri": "https://localhost:8080/",
          "height": 300
        },
        "id": "kKuR1NpRJj6N",
        "outputId": "38dd944f-1f28-428e-f86d-3fa81cda08c8"
      },
      "execution_count": 14,
      "outputs": [
        {
          "output_type": "display_data",
          "data": {
            "text/plain": [
              "<pandas.io.formats.style.Styler at 0x7ef5f04cce80>"
            ],
            "text/html": [
              "<style type=\"text/css\">\n",
              "#T_6692b_row0_col0, #T_6692b_row1_col0, #T_6692b_row1_col2, #T_6692b_row1_col7, #T_6692b_row2_col0, #T_6692b_row3_col0, #T_6692b_row4_col0, #T_6692b_row5_col0, #T_6692b_row6_col0, #T_6692b_row6_col3, #T_6692b_row6_col4, #T_6692b_row7_col0, #T_6692b_row7_col1, #T_6692b_row7_col3, #T_6692b_row7_col4, #T_6692b_row7_col5, #T_6692b_row7_col6, #T_6692b_row7_col7 {\n",
              "  background-color: #fff7fb;\n",
              "  color: #000000;\n",
              "}\n",
              "#T_6692b_row0_col1, #T_6692b_row0_col5 {\n",
              "  background-color: #cacee5;\n",
              "  color: #000000;\n",
              "}\n",
              "#T_6692b_row0_col2 {\n",
              "  background-color: #d7d6e9;\n",
              "  color: #000000;\n",
              "}\n",
              "#T_6692b_row0_col3 {\n",
              "  background-color: #acc0dd;\n",
              "  color: #000000;\n",
              "}\n",
              "#T_6692b_row0_col4 {\n",
              "  background-color: #bdc8e1;\n",
              "  color: #000000;\n",
              "}\n",
              "#T_6692b_row0_col6 {\n",
              "  background-color: #d5d5e8;\n",
              "  color: #000000;\n",
              "}\n",
              "#T_6692b_row0_col7 {\n",
              "  background-color: #abbfdc;\n",
              "  color: #000000;\n",
              "}\n",
              "#T_6692b_row1_col1, #T_6692b_row1_col5, #T_6692b_row3_col2, #T_6692b_row3_col6, #T_6692b_row4_col6, #T_6692b_row4_col7, #T_6692b_row5_col1, #T_6692b_row5_col5, #T_6692b_row5_col6 {\n",
              "  background-color: #fdf5fa;\n",
              "  color: #000000;\n",
              "}\n",
              "#T_6692b_row1_col3 {\n",
              "  background-color: #faf2f8;\n",
              "  color: #000000;\n",
              "}\n",
              "#T_6692b_row1_col4, #T_6692b_row3_col3, #T_6692b_row4_col1, #T_6692b_row4_col2, #T_6692b_row4_col3, #T_6692b_row5_col3, #T_6692b_row5_col4 {\n",
              "  background-color: #fbf4f9;\n",
              "  color: #000000;\n",
              "}\n",
              "#T_6692b_row1_col6, #T_6692b_row3_col7, #T_6692b_row5_col7, #T_6692b_row6_col1, #T_6692b_row6_col5, #T_6692b_row6_col6, #T_6692b_row6_col7 {\n",
              "  background-color: #fef6fb;\n",
              "  color: #000000;\n",
              "}\n",
              "#T_6692b_row2_col1, #T_6692b_row2_col2, #T_6692b_row2_col3, #T_6692b_row2_col4, #T_6692b_row2_col5, #T_6692b_row2_col6, #T_6692b_row2_col7 {\n",
              "  background-color: #023858;\n",
              "  color: #f1f1f1;\n",
              "}\n",
              "#T_6692b_row3_col1, #T_6692b_row3_col5, #T_6692b_row5_col2, #T_6692b_row7_col2 {\n",
              "  background-color: #fcf4fa;\n",
              "  color: #000000;\n",
              "}\n",
              "#T_6692b_row3_col4, #T_6692b_row4_col5, #T_6692b_row6_col2 {\n",
              "  background-color: #fbf3f9;\n",
              "  color: #000000;\n",
              "}\n",
              "#T_6692b_row4_col4 {\n",
              "  background-color: #f8f1f8;\n",
              "  color: #000000;\n",
              "}\n",
              "</style>\n",
              "<table id=\"T_6692b\" class=\"dataframe\">\n",
              "  <thead>\n",
              "    <tr>\n",
              "      <th class=\"blank level0\" >&nbsp;</th>\n",
              "      <th id=\"T_6692b_level0_col0\" class=\"col_heading level0 col0\" >count</th>\n",
              "      <th id=\"T_6692b_level0_col1\" class=\"col_heading level0 col1\" >mean</th>\n",
              "      <th id=\"T_6692b_level0_col2\" class=\"col_heading level0 col2\" >std</th>\n",
              "      <th id=\"T_6692b_level0_col3\" class=\"col_heading level0 col3\" >min</th>\n",
              "      <th id=\"T_6692b_level0_col4\" class=\"col_heading level0 col4\" >25%</th>\n",
              "      <th id=\"T_6692b_level0_col5\" class=\"col_heading level0 col5\" >50%</th>\n",
              "      <th id=\"T_6692b_level0_col6\" class=\"col_heading level0 col6\" >75%</th>\n",
              "      <th id=\"T_6692b_level0_col7\" class=\"col_heading level0 col7\" >max</th>\n",
              "    </tr>\n",
              "  </thead>\n",
              "  <tbody>\n",
              "    <tr>\n",
              "      <th id=\"T_6692b_level0_row0\" class=\"row_heading level0 row0\" >Age</th>\n",
              "      <td id=\"T_6692b_row0_col0\" class=\"data row0 col0\" >13840.000000</td>\n",
              "      <td id=\"T_6692b_row0_col1\" class=\"data row0 col1\" >23.952740</td>\n",
              "      <td id=\"T_6692b_row0_col2\" class=\"data row0 col2\" >5.799814</td>\n",
              "      <td id=\"T_6692b_row0_col3\" class=\"data row0 col3\" >14.000000</td>\n",
              "      <td id=\"T_6692b_row0_col4\" class=\"data row0 col4\" >20.000000</td>\n",
              "      <td id=\"T_6692b_row0_col5\" class=\"data row0 col5\" >22.906342</td>\n",
              "      <td id=\"T_6692b_row0_col6\" class=\"data row0 col6\" >26.000000</td>\n",
              "      <td id=\"T_6692b_row0_col7\" class=\"data row0 col7\" >61.000000</td>\n",
              "    </tr>\n",
              "    <tr>\n",
              "      <th id=\"T_6692b_level0_row1\" class=\"row_heading level0 row1\" >Height</th>\n",
              "      <td id=\"T_6692b_row1_col0\" class=\"data row1 col0\" >13840.000000</td>\n",
              "      <td id=\"T_6692b_row1_col1\" class=\"data row1 col1\" >1.698934</td>\n",
              "      <td id=\"T_6692b_row1_col2\" class=\"data row1 col2\" >0.088761</td>\n",
              "      <td id=\"T_6692b_row1_col3\" class=\"data row1 col3\" >1.450000</td>\n",
              "      <td id=\"T_6692b_row1_col4\" class=\"data row1 col4\" >1.631662</td>\n",
              "      <td id=\"T_6692b_row1_col5\" class=\"data row1 col5\" >1.700000</td>\n",
              "      <td id=\"T_6692b_row1_col6\" class=\"data row1 col6\" >1.760710</td>\n",
              "      <td id=\"T_6692b_row1_col7\" class=\"data row1 col7\" >1.980000</td>\n",
              "    </tr>\n",
              "    <tr>\n",
              "      <th id=\"T_6692b_level0_row2\" class=\"row_heading level0 row2\" >Weight</th>\n",
              "      <td id=\"T_6692b_row2_col0\" class=\"data row2 col0\" >13840.000000</td>\n",
              "      <td id=\"T_6692b_row2_col1\" class=\"data row2 col1\" >87.384504</td>\n",
              "      <td id=\"T_6692b_row2_col2\" class=\"data row2 col2\" >26.111819</td>\n",
              "      <td id=\"T_6692b_row2_col3\" class=\"data row2 col3\" >39.000000</td>\n",
              "      <td id=\"T_6692b_row2_col4\" class=\"data row2 col4\" >65.000000</td>\n",
              "      <td id=\"T_6692b_row2_col5\" class=\"data row2 col5\" >83.952968</td>\n",
              "      <td id=\"T_6692b_row2_col6\" class=\"data row2 col6\" >111.157811</td>\n",
              "      <td id=\"T_6692b_row2_col7\" class=\"data row2 col7\" >165.057269</td>\n",
              "    </tr>\n",
              "    <tr>\n",
              "      <th id=\"T_6692b_level0_row3\" class=\"row_heading level0 row3\" >FCVC</th>\n",
              "      <td id=\"T_6692b_row3_col0\" class=\"data row3 col0\" >13840.000000</td>\n",
              "      <td id=\"T_6692b_row3_col1\" class=\"data row3 col1\" >2.442898</td>\n",
              "      <td id=\"T_6692b_row3_col2\" class=\"data row3 col2\" >0.531606</td>\n",
              "      <td id=\"T_6692b_row3_col3\" class=\"data row3 col3\" >1.000000</td>\n",
              "      <td id=\"T_6692b_row3_col4\" class=\"data row3 col4\" >2.000000</td>\n",
              "      <td id=\"T_6692b_row3_col5\" class=\"data row3 col5\" >2.358087</td>\n",
              "      <td id=\"T_6692b_row3_col6\" class=\"data row3 col6\" >3.000000</td>\n",
              "      <td id=\"T_6692b_row3_col7\" class=\"data row3 col7\" >3.000000</td>\n",
              "    </tr>\n",
              "    <tr>\n",
              "      <th id=\"T_6692b_level0_row4\" class=\"row_heading level0 row4\" >NCP</th>\n",
              "      <td id=\"T_6692b_row4_col0\" class=\"data row4 col0\" >13840.000000</td>\n",
              "      <td id=\"T_6692b_row4_col1\" class=\"data row4 col1\" >2.750610</td>\n",
              "      <td id=\"T_6692b_row4_col2\" class=\"data row4 col2\" >0.710927</td>\n",
              "      <td id=\"T_6692b_row4_col3\" class=\"data row4 col3\" >1.000000</td>\n",
              "      <td id=\"T_6692b_row4_col4\" class=\"data row4 col4\" >3.000000</td>\n",
              "      <td id=\"T_6692b_row4_col5\" class=\"data row4 col5\" >3.000000</td>\n",
              "      <td id=\"T_6692b_row4_col6\" class=\"data row4 col6\" >3.000000</td>\n",
              "      <td id=\"T_6692b_row4_col7\" class=\"data row4 col7\" >4.000000</td>\n",
              "    </tr>\n",
              "    <tr>\n",
              "      <th id=\"T_6692b_level0_row5\" class=\"row_heading level0 row5\" >CH2O</th>\n",
              "      <td id=\"T_6692b_row5_col0\" class=\"data row5 col0\" >13840.000000</td>\n",
              "      <td id=\"T_6692b_row5_col1\" class=\"data row5 col1\" >2.032044</td>\n",
              "      <td id=\"T_6692b_row5_col2\" class=\"data row5 col2\" >0.611230</td>\n",
              "      <td id=\"T_6692b_row5_col3\" class=\"data row5 col3\" >1.000000</td>\n",
              "      <td id=\"T_6692b_row5_col4\" class=\"data row5 col4\" >1.771781</td>\n",
              "      <td id=\"T_6692b_row5_col5\" class=\"data row5 col5\" >2.000000</td>\n",
              "      <td id=\"T_6692b_row5_col6\" class=\"data row5 col6\" >2.552388</td>\n",
              "      <td id=\"T_6692b_row5_col7\" class=\"data row5 col7\" >3.000000</td>\n",
              "    </tr>\n",
              "    <tr>\n",
              "      <th id=\"T_6692b_level0_row6\" class=\"row_heading level0 row6\" >FAF</th>\n",
              "      <td id=\"T_6692b_row6_col0\" class=\"data row6 col0\" >13840.000000</td>\n",
              "      <td id=\"T_6692b_row6_col1\" class=\"data row6 col1\" >0.974532</td>\n",
              "      <td id=\"T_6692b_row6_col2\" class=\"data row6 col2\" >0.840361</td>\n",
              "      <td id=\"T_6692b_row6_col3\" class=\"data row6 col3\" >0.000000</td>\n",
              "      <td id=\"T_6692b_row6_col4\" class=\"data row6 col4\" >0.001086</td>\n",
              "      <td id=\"T_6692b_row6_col5\" class=\"data row6 col5\" >1.000000</td>\n",
              "      <td id=\"T_6692b_row6_col6\" class=\"data row6 col6\" >1.571865</td>\n",
              "      <td id=\"T_6692b_row6_col7\" class=\"data row6 col7\" >3.000000</td>\n",
              "    </tr>\n",
              "    <tr>\n",
              "      <th id=\"T_6692b_level0_row7\" class=\"row_heading level0 row7\" >TUE</th>\n",
              "      <td id=\"T_6692b_row7_col0\" class=\"data row7 col0\" >13840.000000</td>\n",
              "      <td id=\"T_6692b_row7_col1\" class=\"data row7 col1\" >0.611033</td>\n",
              "      <td id=\"T_6692b_row7_col2\" class=\"data row7 col2\" >0.608005</td>\n",
              "      <td id=\"T_6692b_row7_col3\" class=\"data row7 col3\" >0.000000</td>\n",
              "      <td id=\"T_6692b_row7_col4\" class=\"data row7 col4\" >0.000000</td>\n",
              "      <td id=\"T_6692b_row7_col5\" class=\"data row7 col5\" >0.552498</td>\n",
              "      <td id=\"T_6692b_row7_col6\" class=\"data row7 col6\" >1.000000</td>\n",
              "      <td id=\"T_6692b_row7_col7\" class=\"data row7 col7\" >2.000000</td>\n",
              "    </tr>\n",
              "  </tbody>\n",
              "</table>\n"
            ]
          },
          "metadata": {}
        }
      ]
    },
    {
      "cell_type": "code",
      "source": [
        "stats_original = stats(original_data)"
      ],
      "metadata": {
        "colab": {
          "base_uri": "https://localhost:8080/",
          "height": 300
        },
        "id": "RdW1LzI3Jp2W",
        "outputId": "bd3bb4da-9f1b-4f3d-fb3c-2ea0bd92511e"
      },
      "execution_count": 15,
      "outputs": [
        {
          "output_type": "display_data",
          "data": {
            "text/plain": [
              "<pandas.io.formats.style.Styler at 0x7ef4da4912a0>"
            ],
            "text/html": [
              "<style type=\"text/css\">\n",
              "#T_c30bc_row0_col0, #T_c30bc_row1_col0, #T_c30bc_row1_col2, #T_c30bc_row1_col7, #T_c30bc_row2_col0, #T_c30bc_row3_col0, #T_c30bc_row4_col0, #T_c30bc_row5_col0, #T_c30bc_row6_col0, #T_c30bc_row6_col3, #T_c30bc_row6_col4, #T_c30bc_row7_col0, #T_c30bc_row7_col1, #T_c30bc_row7_col3, #T_c30bc_row7_col4, #T_c30bc_row7_col5, #T_c30bc_row7_col6, #T_c30bc_row7_col7 {\n",
              "  background-color: #fff7fb;\n",
              "  color: #000000;\n",
              "}\n",
              "#T_c30bc_row0_col1 {\n",
              "  background-color: #c8cde4;\n",
              "  color: #000000;\n",
              "}\n",
              "#T_c30bc_row0_col2 {\n",
              "  background-color: #d2d3e7;\n",
              "  color: #000000;\n",
              "}\n",
              "#T_c30bc_row0_col3 {\n",
              "  background-color: #acc0dd;\n",
              "  color: #000000;\n",
              "}\n",
              "#T_c30bc_row0_col4 {\n",
              "  background-color: #bfc9e1;\n",
              "  color: #000000;\n",
              "}\n",
              "#T_c30bc_row0_col5 {\n",
              "  background-color: #cacee5;\n",
              "  color: #000000;\n",
              "}\n",
              "#T_c30bc_row0_col6 {\n",
              "  background-color: #d3d4e7;\n",
              "  color: #000000;\n",
              "}\n",
              "#T_c30bc_row0_col7 {\n",
              "  background-color: #b0c2de;\n",
              "  color: #000000;\n",
              "}\n",
              "#T_c30bc_row1_col1, #T_c30bc_row1_col5, #T_c30bc_row3_col2, #T_c30bc_row3_col6, #T_c30bc_row4_col6, #T_c30bc_row4_col7, #T_c30bc_row5_col1, #T_c30bc_row5_col5, #T_c30bc_row5_col6 {\n",
              "  background-color: #fdf5fa;\n",
              "  color: #000000;\n",
              "}\n",
              "#T_c30bc_row1_col3 {\n",
              "  background-color: #faf2f8;\n",
              "  color: #000000;\n",
              "}\n",
              "#T_c30bc_row1_col4, #T_c30bc_row3_col3, #T_c30bc_row4_col1, #T_c30bc_row4_col2, #T_c30bc_row4_col3, #T_c30bc_row5_col3, #T_c30bc_row5_col4 {\n",
              "  background-color: #fbf4f9;\n",
              "  color: #000000;\n",
              "}\n",
              "#T_c30bc_row1_col6, #T_c30bc_row3_col7, #T_c30bc_row5_col7, #T_c30bc_row6_col1, #T_c30bc_row6_col5, #T_c30bc_row6_col6, #T_c30bc_row6_col7 {\n",
              "  background-color: #fef6fb;\n",
              "  color: #000000;\n",
              "}\n",
              "#T_c30bc_row2_col1, #T_c30bc_row2_col2, #T_c30bc_row2_col3, #T_c30bc_row2_col4, #T_c30bc_row2_col5, #T_c30bc_row2_col6, #T_c30bc_row2_col7 {\n",
              "  background-color: #023858;\n",
              "  color: #f1f1f1;\n",
              "}\n",
              "#T_c30bc_row3_col1, #T_c30bc_row3_col5, #T_c30bc_row5_col2, #T_c30bc_row7_col2 {\n",
              "  background-color: #fcf4fa;\n",
              "  color: #000000;\n",
              "}\n",
              "#T_c30bc_row3_col4, #T_c30bc_row4_col5, #T_c30bc_row6_col2 {\n",
              "  background-color: #fbf3f9;\n",
              "  color: #000000;\n",
              "}\n",
              "#T_c30bc_row4_col4 {\n",
              "  background-color: #f9f2f8;\n",
              "  color: #000000;\n",
              "}\n",
              "</style>\n",
              "<table id=\"T_c30bc\" class=\"dataframe\">\n",
              "  <thead>\n",
              "    <tr>\n",
              "      <th class=\"blank level0\" >&nbsp;</th>\n",
              "      <th id=\"T_c30bc_level0_col0\" class=\"col_heading level0 col0\" >count</th>\n",
              "      <th id=\"T_c30bc_level0_col1\" class=\"col_heading level0 col1\" >mean</th>\n",
              "      <th id=\"T_c30bc_level0_col2\" class=\"col_heading level0 col2\" >std</th>\n",
              "      <th id=\"T_c30bc_level0_col3\" class=\"col_heading level0 col3\" >min</th>\n",
              "      <th id=\"T_c30bc_level0_col4\" class=\"col_heading level0 col4\" >25%</th>\n",
              "      <th id=\"T_c30bc_level0_col5\" class=\"col_heading level0 col5\" >50%</th>\n",
              "      <th id=\"T_c30bc_level0_col6\" class=\"col_heading level0 col6\" >75%</th>\n",
              "      <th id=\"T_c30bc_level0_col7\" class=\"col_heading level0 col7\" >max</th>\n",
              "    </tr>\n",
              "  </thead>\n",
              "  <tbody>\n",
              "    <tr>\n",
              "      <th id=\"T_c30bc_level0_row0\" class=\"row_heading level0 row0\" >Age</th>\n",
              "      <td id=\"T_c30bc_row0_col0\" class=\"data row0 col0\" >2111.000000</td>\n",
              "      <td id=\"T_c30bc_row0_col1\" class=\"data row0 col1\" >24.312600</td>\n",
              "      <td id=\"T_c30bc_row0_col2\" class=\"data row0 col2\" >6.345968</td>\n",
              "      <td id=\"T_c30bc_row0_col3\" class=\"data row0 col3\" >14.000000</td>\n",
              "      <td id=\"T_c30bc_row0_col4\" class=\"data row0 col4\" >19.947192</td>\n",
              "      <td id=\"T_c30bc_row0_col5\" class=\"data row0 col5\" >22.777890</td>\n",
              "      <td id=\"T_c30bc_row0_col6\" class=\"data row0 col6\" >26.000000</td>\n",
              "      <td id=\"T_c30bc_row0_col7\" class=\"data row0 col7\" >61.000000</td>\n",
              "    </tr>\n",
              "    <tr>\n",
              "      <th id=\"T_c30bc_level0_row1\" class=\"row_heading level0 row1\" >Height</th>\n",
              "      <td id=\"T_c30bc_row1_col0\" class=\"data row1 col0\" >2111.000000</td>\n",
              "      <td id=\"T_c30bc_row1_col1\" class=\"data row1 col1\" >1.701677</td>\n",
              "      <td id=\"T_c30bc_row1_col2\" class=\"data row1 col2\" >0.093305</td>\n",
              "      <td id=\"T_c30bc_row1_col3\" class=\"data row1 col3\" >1.450000</td>\n",
              "      <td id=\"T_c30bc_row1_col4\" class=\"data row1 col4\" >1.630000</td>\n",
              "      <td id=\"T_c30bc_row1_col5\" class=\"data row1 col5\" >1.700499</td>\n",
              "      <td id=\"T_c30bc_row1_col6\" class=\"data row1 col6\" >1.768464</td>\n",
              "      <td id=\"T_c30bc_row1_col7\" class=\"data row1 col7\" >1.980000</td>\n",
              "    </tr>\n",
              "    <tr>\n",
              "      <th id=\"T_c30bc_level0_row2\" class=\"row_heading level0 row2\" >Weight</th>\n",
              "      <td id=\"T_c30bc_row2_col0\" class=\"data row2 col0\" >2111.000000</td>\n",
              "      <td id=\"T_c30bc_row2_col1\" class=\"data row2 col1\" >86.586058</td>\n",
              "      <td id=\"T_c30bc_row2_col2\" class=\"data row2 col2\" >26.191172</td>\n",
              "      <td id=\"T_c30bc_row2_col3\" class=\"data row2 col3\" >39.000000</td>\n",
              "      <td id=\"T_c30bc_row2_col4\" class=\"data row2 col4\" >65.473343</td>\n",
              "      <td id=\"T_c30bc_row2_col5\" class=\"data row2 col5\" >83.000000</td>\n",
              "      <td id=\"T_c30bc_row2_col6\" class=\"data row2 col6\" >107.430682</td>\n",
              "      <td id=\"T_c30bc_row2_col7\" class=\"data row2 col7\" >173.000000</td>\n",
              "    </tr>\n",
              "    <tr>\n",
              "      <th id=\"T_c30bc_level0_row3\" class=\"row_heading level0 row3\" >FCVC</th>\n",
              "      <td id=\"T_c30bc_row3_col0\" class=\"data row3 col0\" >2111.000000</td>\n",
              "      <td id=\"T_c30bc_row3_col1\" class=\"data row3 col1\" >2.419043</td>\n",
              "      <td id=\"T_c30bc_row3_col2\" class=\"data row3 col2\" >0.533927</td>\n",
              "      <td id=\"T_c30bc_row3_col3\" class=\"data row3 col3\" >1.000000</td>\n",
              "      <td id=\"T_c30bc_row3_col4\" class=\"data row3 col4\" >2.000000</td>\n",
              "      <td id=\"T_c30bc_row3_col5\" class=\"data row3 col5\" >2.385502</td>\n",
              "      <td id=\"T_c30bc_row3_col6\" class=\"data row3 col6\" >3.000000</td>\n",
              "      <td id=\"T_c30bc_row3_col7\" class=\"data row3 col7\" >3.000000</td>\n",
              "    </tr>\n",
              "    <tr>\n",
              "      <th id=\"T_c30bc_level0_row4\" class=\"row_heading level0 row4\" >NCP</th>\n",
              "      <td id=\"T_c30bc_row4_col0\" class=\"data row4 col0\" >2111.000000</td>\n",
              "      <td id=\"T_c30bc_row4_col1\" class=\"data row4 col1\" >2.685628</td>\n",
              "      <td id=\"T_c30bc_row4_col2\" class=\"data row4 col2\" >0.778039</td>\n",
              "      <td id=\"T_c30bc_row4_col3\" class=\"data row4 col3\" >1.000000</td>\n",
              "      <td id=\"T_c30bc_row4_col4\" class=\"data row4 col4\" >2.658738</td>\n",
              "      <td id=\"T_c30bc_row4_col5\" class=\"data row4 col5\" >3.000000</td>\n",
              "      <td id=\"T_c30bc_row4_col6\" class=\"data row4 col6\" >3.000000</td>\n",
              "      <td id=\"T_c30bc_row4_col7\" class=\"data row4 col7\" >4.000000</td>\n",
              "    </tr>\n",
              "    <tr>\n",
              "      <th id=\"T_c30bc_level0_row5\" class=\"row_heading level0 row5\" >CH2O</th>\n",
              "      <td id=\"T_c30bc_row5_col0\" class=\"data row5 col0\" >2111.000000</td>\n",
              "      <td id=\"T_c30bc_row5_col1\" class=\"data row5 col1\" >2.008011</td>\n",
              "      <td id=\"T_c30bc_row5_col2\" class=\"data row5 col2\" >0.612953</td>\n",
              "      <td id=\"T_c30bc_row5_col3\" class=\"data row5 col3\" >1.000000</td>\n",
              "      <td id=\"T_c30bc_row5_col4\" class=\"data row5 col4\" >1.584812</td>\n",
              "      <td id=\"T_c30bc_row5_col5\" class=\"data row5 col5\" >2.000000</td>\n",
              "      <td id=\"T_c30bc_row5_col6\" class=\"data row5 col6\" >2.477420</td>\n",
              "      <td id=\"T_c30bc_row5_col7\" class=\"data row5 col7\" >3.000000</td>\n",
              "    </tr>\n",
              "    <tr>\n",
              "      <th id=\"T_c30bc_level0_row6\" class=\"row_heading level0 row6\" >FAF</th>\n",
              "      <td id=\"T_c30bc_row6_col0\" class=\"data row6 col0\" >2111.000000</td>\n",
              "      <td id=\"T_c30bc_row6_col1\" class=\"data row6 col1\" >1.010298</td>\n",
              "      <td id=\"T_c30bc_row6_col2\" class=\"data row6 col2\" >0.850592</td>\n",
              "      <td id=\"T_c30bc_row6_col3\" class=\"data row6 col3\" >0.000000</td>\n",
              "      <td id=\"T_c30bc_row6_col4\" class=\"data row6 col4\" >0.124505</td>\n",
              "      <td id=\"T_c30bc_row6_col5\" class=\"data row6 col5\" >1.000000</td>\n",
              "      <td id=\"T_c30bc_row6_col6\" class=\"data row6 col6\" >1.666678</td>\n",
              "      <td id=\"T_c30bc_row6_col7\" class=\"data row6 col7\" >3.000000</td>\n",
              "    </tr>\n",
              "    <tr>\n",
              "      <th id=\"T_c30bc_level0_row7\" class=\"row_heading level0 row7\" >TUE</th>\n",
              "      <td id=\"T_c30bc_row7_col0\" class=\"data row7 col0\" >2111.000000</td>\n",
              "      <td id=\"T_c30bc_row7_col1\" class=\"data row7 col1\" >0.657866</td>\n",
              "      <td id=\"T_c30bc_row7_col2\" class=\"data row7 col2\" >0.608927</td>\n",
              "      <td id=\"T_c30bc_row7_col3\" class=\"data row7 col3\" >0.000000</td>\n",
              "      <td id=\"T_c30bc_row7_col4\" class=\"data row7 col4\" >0.000000</td>\n",
              "      <td id=\"T_c30bc_row7_col5\" class=\"data row7 col5\" >0.625350</td>\n",
              "      <td id=\"T_c30bc_row7_col6\" class=\"data row7 col6\" >1.000000</td>\n",
              "      <td id=\"T_c30bc_row7_col7\" class=\"data row7 col7\" >2.000000</td>\n",
              "    </tr>\n",
              "  </tbody>\n",
              "</table>\n"
            ]
          },
          "metadata": {}
        }
      ]
    },
    {
      "cell_type": "code",
      "source": [
        "def unique_vals(df, title=None):\n",
        "  columns = train_data.columns[0:-1]\n",
        "  for cols in columns:\n",
        "    print(f\"{title} values in {cols} is: \", df[cols].nunique())\n",
        "\n",
        "def null_vals(df, title=None):\n",
        "  columns = train_data.columns[0:-1]\n",
        "  for cols in columns:\n",
        "    print(f\"{title} values in {cols} is: \", df[cols].isnull().sum())\n",
        "\n",
        "def duplicate_vals(df, title=None):\n",
        "  columns = train_data.columns[0:-1]\n",
        "  for cols in columns:\n",
        "    print(f\"{title} values in {cols} is: \", df.shape[0] - df[cols].duplicated().sum())"
      ],
      "metadata": {
        "id": "ps0jFoZUJr6U"
      },
      "execution_count": 16,
      "outputs": []
    },
    {
      "cell_type": "code",
      "source": [
        "unique_vals(train_data, \"unique\")"
      ],
      "metadata": {
        "colab": {
          "base_uri": "https://localhost:8080/"
        },
        "id": "i0x8f2fAMtnz",
        "outputId": "b53bb2ee-a20b-4daf-ffca-3f76d26feeab"
      },
      "execution_count": 17,
      "outputs": [
        {
          "output_type": "stream",
          "name": "stdout",
          "text": [
            "unique values in Gender is:  2\n",
            "unique values in Age is:  1703\n",
            "unique values in Height is:  1833\n",
            "unique values in Weight is:  1979\n",
            "unique values in family_history_with_overweight is:  2\n",
            "unique values in FAVC is:  2\n",
            "unique values in FCVC is:  934\n",
            "unique values in NCP is:  689\n",
            "unique values in CAEC is:  4\n",
            "unique values in SMOKE is:  2\n",
            "unique values in CH2O is:  1506\n",
            "unique values in SCC is:  2\n",
            "unique values in FAF is:  1360\n",
            "unique values in TUE is:  1297\n",
            "unique values in CALC is:  3\n",
            "unique values in MTRANS is:  5\n"
          ]
        }
      ]
    },
    {
      "cell_type": "code",
      "source": [
        "unique_vals(original_data, \"unique\")"
      ],
      "metadata": {
        "colab": {
          "base_uri": "https://localhost:8080/"
        },
        "id": "bLce-ks2NVgL",
        "outputId": "ed7b2651-4fbb-4aa7-9d46-db133a0ab01b"
      },
      "execution_count": 18,
      "outputs": [
        {
          "output_type": "stream",
          "name": "stdout",
          "text": [
            "unique values in Gender is:  2\n",
            "unique values in Age is:  1402\n",
            "unique values in Height is:  1574\n",
            "unique values in Weight is:  1525\n",
            "unique values in family_history_with_overweight is:  2\n",
            "unique values in FAVC is:  2\n",
            "unique values in FCVC is:  810\n",
            "unique values in NCP is:  635\n",
            "unique values in CAEC is:  4\n",
            "unique values in SMOKE is:  2\n",
            "unique values in CH2O is:  1268\n",
            "unique values in SCC is:  2\n",
            "unique values in FAF is:  1190\n",
            "unique values in TUE is:  1129\n",
            "unique values in CALC is:  4\n",
            "unique values in MTRANS is:  5\n"
          ]
        }
      ]
    },
    {
      "cell_type": "code",
      "source": [
        "null_vals(train_data, \"null\")"
      ],
      "metadata": {
        "colab": {
          "base_uri": "https://localhost:8080/"
        },
        "id": "rZtyX-_eRHXu",
        "outputId": "45e6f6fb-4be6-412d-8529-109c0c6159b9"
      },
      "execution_count": 19,
      "outputs": [
        {
          "output_type": "stream",
          "name": "stdout",
          "text": [
            "null values in Gender is:  0\n",
            "null values in Age is:  0\n",
            "null values in Height is:  0\n",
            "null values in Weight is:  0\n",
            "null values in family_history_with_overweight is:  0\n",
            "null values in FAVC is:  0\n",
            "null values in FCVC is:  0\n",
            "null values in NCP is:  0\n",
            "null values in CAEC is:  0\n",
            "null values in SMOKE is:  0\n",
            "null values in CH2O is:  0\n",
            "null values in SCC is:  0\n",
            "null values in FAF is:  0\n",
            "null values in TUE is:  0\n",
            "null values in CALC is:  0\n",
            "null values in MTRANS is:  0\n"
          ]
        }
      ]
    },
    {
      "cell_type": "code",
      "source": [
        "null_vals(original_data, \"null\")"
      ],
      "metadata": {
        "colab": {
          "base_uri": "https://localhost:8080/"
        },
        "id": "WRU5-KMHRl2m",
        "outputId": "d0200377-c13a-4029-d567-98d117f667d8"
      },
      "execution_count": 20,
      "outputs": [
        {
          "output_type": "stream",
          "name": "stdout",
          "text": [
            "null values in Gender is:  0\n",
            "null values in Age is:  0\n",
            "null values in Height is:  0\n",
            "null values in Weight is:  0\n",
            "null values in family_history_with_overweight is:  0\n",
            "null values in FAVC is:  0\n",
            "null values in FCVC is:  0\n",
            "null values in NCP is:  0\n",
            "null values in CAEC is:  0\n",
            "null values in SMOKE is:  0\n",
            "null values in CH2O is:  0\n",
            "null values in SCC is:  0\n",
            "null values in FAF is:  0\n",
            "null values in TUE is:  0\n",
            "null values in CALC is:  0\n",
            "null values in MTRANS is:  0\n"
          ]
        }
      ]
    },
    {
      "cell_type": "code",
      "source": [
        "duplicate_vals(train_data, \"duplicate\")"
      ],
      "metadata": {
        "colab": {
          "base_uri": "https://localhost:8080/"
        },
        "id": "hMh7ys-aRoRp",
        "outputId": "4f047caa-e0d2-468d-b80d-779d3858da7e"
      },
      "execution_count": 21,
      "outputs": [
        {
          "output_type": "stream",
          "name": "stdout",
          "text": [
            "duplicate values in Gender is:  2\n",
            "duplicate values in Age is:  1703\n",
            "duplicate values in Height is:  1833\n",
            "duplicate values in Weight is:  1979\n",
            "duplicate values in family_history_with_overweight is:  2\n",
            "duplicate values in FAVC is:  2\n",
            "duplicate values in FCVC is:  934\n",
            "duplicate values in NCP is:  689\n",
            "duplicate values in CAEC is:  4\n",
            "duplicate values in SMOKE is:  2\n",
            "duplicate values in CH2O is:  1506\n",
            "duplicate values in SCC is:  2\n",
            "duplicate values in FAF is:  1360\n",
            "duplicate values in TUE is:  1297\n",
            "duplicate values in CALC is:  3\n",
            "duplicate values in MTRANS is:  5\n"
          ]
        }
      ]
    },
    {
      "cell_type": "code",
      "source": [
        "duplicate_vals(original_data, \"duplicate\")"
      ],
      "metadata": {
        "colab": {
          "base_uri": "https://localhost:8080/"
        },
        "id": "HSKAQwBiRvxa",
        "outputId": "5462f1cd-4aea-41c5-b546-1924a14ac7eb"
      },
      "execution_count": 22,
      "outputs": [
        {
          "output_type": "stream",
          "name": "stdout",
          "text": [
            "duplicate values in Gender is:  2\n",
            "duplicate values in Age is:  1402\n",
            "duplicate values in Height is:  1574\n",
            "duplicate values in Weight is:  1525\n",
            "duplicate values in family_history_with_overweight is:  2\n",
            "duplicate values in FAVC is:  2\n",
            "duplicate values in FCVC is:  810\n",
            "duplicate values in NCP is:  635\n",
            "duplicate values in CAEC is:  4\n",
            "duplicate values in SMOKE is:  2\n",
            "duplicate values in CH2O is:  1268\n",
            "duplicate values in SCC is:  2\n",
            "duplicate values in FAF is:  1190\n",
            "duplicate values in TUE is:  1129\n",
            "duplicate values in CALC is:  4\n",
            "duplicate values in MTRANS is:  5\n"
          ]
        }
      ]
    },
    {
      "cell_type": "code",
      "source": [
        "print(\"Train Data Shape: \", train_data.shape)\n",
        "print(\"Test Data Shape: \", test_data.shape)\n",
        "print(\"Original Data Shape: \", original_data.shape)"
      ],
      "metadata": {
        "colab": {
          "base_uri": "https://localhost:8080/"
        },
        "id": "g7Q0dHAL3XWk",
        "outputId": "9dc4f8a4-c153-4a70-f61f-9734db753e68"
      },
      "execution_count": 23,
      "outputs": [
        {
          "output_type": "stream",
          "name": "stdout",
          "text": [
            "Train Data Shape:  (20758, 17)\n",
            "Test Data Shape:  (13840, 16)\n",
            "Original Data Shape:  (2111, 17)\n"
          ]
        }
      ]
    },
    {
      "cell_type": "markdown",
      "source": [
        "<b>Important points to look at from above stats:</b>\n",
        "<br>\n",
        "1. On the surface, there are no null values in our dataset\n",
        "2. But, We see that `FAF` and `TUE` have values 0 which is not possible (in my opinion) so we must treat them as null values and impute them with mean values, since both these features are continuous features.\n",
        "3. We have quite a lot of duplicate values in Original Data, while they shouldn't matter much in our train dataset, since the difference in number of duplicates in train and number of observations in train is huge, I feel that original dataset is not good enough to use since most values are duplicates"
      ],
      "metadata": {
        "id": "XqxNbnZC18Vu"
      }
    },
    {
      "cell_type": "markdown",
      "source": [
        "# Data Encoding and Feature Engineering\n",
        "In this section we will do the following:\n",
        "1. Impute values in `FAF` and `TUE`\n",
        "2. Encode the dataset\n",
        "    * We will do `OneHotEncoding` on all categorical features except our `target`\n",
        "    * On `target` we will do Label Encoding\n",
        "\n",
        "3. We will then do Adversarial Validation to see if our Train-Test data is iid or not\n"
      ],
      "metadata": {
        "id": "tOhan_4bTx3M"
      }
    },
    {
      "cell_type": "code",
      "source": [
        "train_data.head(2)"
      ],
      "metadata": {
        "colab": {
          "base_uri": "https://localhost:8080/",
          "height": 163
        },
        "id": "l7i8pDvrRyQS",
        "outputId": "3a844c0a-a25a-40a4-f8ae-79f9db75da33"
      },
      "execution_count": 24,
      "outputs": [
        {
          "output_type": "execute_result",
          "data": {
            "text/plain": [
              "    Gender        Age    Height    Weight family_history_with_overweight FAVC  \\\n",
              "id                                                                              \n",
              "0     Male  24.443011  1.699998  81.66995                            yes  yes   \n",
              "1   Female  18.000000  1.560000  57.00000                            yes  yes   \n",
              "\n",
              "    FCVC       NCP        CAEC SMOKE      CH2O SCC  FAF       TUE       CALC  \\\n",
              "id                                                                             \n",
              "0    2.0  2.983297   Sometimes    no  2.763573  no  0.0  0.976473  Sometimes   \n",
              "1    2.0  3.000000  Frequently    no  2.000000  no  1.0  1.000000         no   \n",
              "\n",
              "                   MTRANS           NObeyesdad  \n",
              "id                                              \n",
              "0   Public_Transportation  Overweight_Level_II  \n",
              "1              Automobile        Normal_Weight  "
            ],
            "text/html": [
              "\n",
              "  <div id=\"df-0a32a503-418b-49f8-8409-fb012210a4d5\" class=\"colab-df-container\">\n",
              "    <div>\n",
              "<style scoped>\n",
              "    .dataframe tbody tr th:only-of-type {\n",
              "        vertical-align: middle;\n",
              "    }\n",
              "\n",
              "    .dataframe tbody tr th {\n",
              "        vertical-align: top;\n",
              "    }\n",
              "\n",
              "    .dataframe thead th {\n",
              "        text-align: right;\n",
              "    }\n",
              "</style>\n",
              "<table border=\"1\" class=\"dataframe\">\n",
              "  <thead>\n",
              "    <tr style=\"text-align: right;\">\n",
              "      <th></th>\n",
              "      <th>Gender</th>\n",
              "      <th>Age</th>\n",
              "      <th>Height</th>\n",
              "      <th>Weight</th>\n",
              "      <th>family_history_with_overweight</th>\n",
              "      <th>FAVC</th>\n",
              "      <th>FCVC</th>\n",
              "      <th>NCP</th>\n",
              "      <th>CAEC</th>\n",
              "      <th>SMOKE</th>\n",
              "      <th>CH2O</th>\n",
              "      <th>SCC</th>\n",
              "      <th>FAF</th>\n",
              "      <th>TUE</th>\n",
              "      <th>CALC</th>\n",
              "      <th>MTRANS</th>\n",
              "      <th>NObeyesdad</th>\n",
              "    </tr>\n",
              "    <tr>\n",
              "      <th>id</th>\n",
              "      <th></th>\n",
              "      <th></th>\n",
              "      <th></th>\n",
              "      <th></th>\n",
              "      <th></th>\n",
              "      <th></th>\n",
              "      <th></th>\n",
              "      <th></th>\n",
              "      <th></th>\n",
              "      <th></th>\n",
              "      <th></th>\n",
              "      <th></th>\n",
              "      <th></th>\n",
              "      <th></th>\n",
              "      <th></th>\n",
              "      <th></th>\n",
              "      <th></th>\n",
              "    </tr>\n",
              "  </thead>\n",
              "  <tbody>\n",
              "    <tr>\n",
              "      <th>0</th>\n",
              "      <td>Male</td>\n",
              "      <td>24.443011</td>\n",
              "      <td>1.699998</td>\n",
              "      <td>81.66995</td>\n",
              "      <td>yes</td>\n",
              "      <td>yes</td>\n",
              "      <td>2.0</td>\n",
              "      <td>2.983297</td>\n",
              "      <td>Sometimes</td>\n",
              "      <td>no</td>\n",
              "      <td>2.763573</td>\n",
              "      <td>no</td>\n",
              "      <td>0.0</td>\n",
              "      <td>0.976473</td>\n",
              "      <td>Sometimes</td>\n",
              "      <td>Public_Transportation</td>\n",
              "      <td>Overweight_Level_II</td>\n",
              "    </tr>\n",
              "    <tr>\n",
              "      <th>1</th>\n",
              "      <td>Female</td>\n",
              "      <td>18.000000</td>\n",
              "      <td>1.560000</td>\n",
              "      <td>57.00000</td>\n",
              "      <td>yes</td>\n",
              "      <td>yes</td>\n",
              "      <td>2.0</td>\n",
              "      <td>3.000000</td>\n",
              "      <td>Frequently</td>\n",
              "      <td>no</td>\n",
              "      <td>2.000000</td>\n",
              "      <td>no</td>\n",
              "      <td>1.0</td>\n",
              "      <td>1.000000</td>\n",
              "      <td>no</td>\n",
              "      <td>Automobile</td>\n",
              "      <td>Normal_Weight</td>\n",
              "    </tr>\n",
              "  </tbody>\n",
              "</table>\n",
              "</div>\n",
              "    <div class=\"colab-df-buttons\">\n",
              "\n",
              "  <div class=\"colab-df-container\">\n",
              "    <button class=\"colab-df-convert\" onclick=\"convertToInteractive('df-0a32a503-418b-49f8-8409-fb012210a4d5')\"\n",
              "            title=\"Convert this dataframe to an interactive table.\"\n",
              "            style=\"display:none;\">\n",
              "\n",
              "  <svg xmlns=\"http://www.w3.org/2000/svg\" height=\"24px\" viewBox=\"0 -960 960 960\">\n",
              "    <path d=\"M120-120v-720h720v720H120Zm60-500h600v-160H180v160Zm220 220h160v-160H400v160Zm0 220h160v-160H400v160ZM180-400h160v-160H180v160Zm440 0h160v-160H620v160ZM180-180h160v-160H180v160Zm440 0h160v-160H620v160Z\"/>\n",
              "  </svg>\n",
              "    </button>\n",
              "\n",
              "  <style>\n",
              "    .colab-df-container {\n",
              "      display:flex;\n",
              "      gap: 12px;\n",
              "    }\n",
              "\n",
              "    .colab-df-convert {\n",
              "      background-color: #E8F0FE;\n",
              "      border: none;\n",
              "      border-radius: 50%;\n",
              "      cursor: pointer;\n",
              "      display: none;\n",
              "      fill: #1967D2;\n",
              "      height: 32px;\n",
              "      padding: 0 0 0 0;\n",
              "      width: 32px;\n",
              "    }\n",
              "\n",
              "    .colab-df-convert:hover {\n",
              "      background-color: #E2EBFA;\n",
              "      box-shadow: 0px 1px 2px rgba(60, 64, 67, 0.3), 0px 1px 3px 1px rgba(60, 64, 67, 0.15);\n",
              "      fill: #174EA6;\n",
              "    }\n",
              "\n",
              "    .colab-df-buttons div {\n",
              "      margin-bottom: 4px;\n",
              "    }\n",
              "\n",
              "    [theme=dark] .colab-df-convert {\n",
              "      background-color: #3B4455;\n",
              "      fill: #D2E3FC;\n",
              "    }\n",
              "\n",
              "    [theme=dark] .colab-df-convert:hover {\n",
              "      background-color: #434B5C;\n",
              "      box-shadow: 0px 1px 3px 1px rgba(0, 0, 0, 0.15);\n",
              "      filter: drop-shadow(0px 1px 2px rgba(0, 0, 0, 0.3));\n",
              "      fill: #FFFFFF;\n",
              "    }\n",
              "  </style>\n",
              "\n",
              "    <script>\n",
              "      const buttonEl =\n",
              "        document.querySelector('#df-0a32a503-418b-49f8-8409-fb012210a4d5 button.colab-df-convert');\n",
              "      buttonEl.style.display =\n",
              "        google.colab.kernel.accessAllowed ? 'block' : 'none';\n",
              "\n",
              "      async function convertToInteractive(key) {\n",
              "        const element = document.querySelector('#df-0a32a503-418b-49f8-8409-fb012210a4d5');\n",
              "        const dataTable =\n",
              "          await google.colab.kernel.invokeFunction('convertToInteractive',\n",
              "                                                    [key], {});\n",
              "        if (!dataTable) return;\n",
              "\n",
              "        const docLinkHtml = 'Like what you see? Visit the ' +\n",
              "          '<a target=\"_blank\" href=https://colab.research.google.com/notebooks/data_table.ipynb>data table notebook</a>'\n",
              "          + ' to learn more about interactive tables.';\n",
              "        element.innerHTML = '';\n",
              "        dataTable['output_type'] = 'display_data';\n",
              "        await google.colab.output.renderOutput(dataTable, element);\n",
              "        const docLink = document.createElement('div');\n",
              "        docLink.innerHTML = docLinkHtml;\n",
              "        element.appendChild(docLink);\n",
              "      }\n",
              "    </script>\n",
              "  </div>\n",
              "\n",
              "\n",
              "<div id=\"df-980e7299-9427-4e84-b296-f78e89b5d783\">\n",
              "  <button class=\"colab-df-quickchart\" onclick=\"quickchart('df-980e7299-9427-4e84-b296-f78e89b5d783')\"\n",
              "            title=\"Suggest charts\"\n",
              "            style=\"display:none;\">\n",
              "\n",
              "<svg xmlns=\"http://www.w3.org/2000/svg\" height=\"24px\"viewBox=\"0 0 24 24\"\n",
              "     width=\"24px\">\n",
              "    <g>\n",
              "        <path d=\"M19 3H5c-1.1 0-2 .9-2 2v14c0 1.1.9 2 2 2h14c1.1 0 2-.9 2-2V5c0-1.1-.9-2-2-2zM9 17H7v-7h2v7zm4 0h-2V7h2v10zm4 0h-2v-4h2v4z\"/>\n",
              "    </g>\n",
              "</svg>\n",
              "  </button>\n",
              "\n",
              "<style>\n",
              "  .colab-df-quickchart {\n",
              "      --bg-color: #E8F0FE;\n",
              "      --fill-color: #1967D2;\n",
              "      --hover-bg-color: #E2EBFA;\n",
              "      --hover-fill-color: #174EA6;\n",
              "      --disabled-fill-color: #AAA;\n",
              "      --disabled-bg-color: #DDD;\n",
              "  }\n",
              "\n",
              "  [theme=dark] .colab-df-quickchart {\n",
              "      --bg-color: #3B4455;\n",
              "      --fill-color: #D2E3FC;\n",
              "      --hover-bg-color: #434B5C;\n",
              "      --hover-fill-color: #FFFFFF;\n",
              "      --disabled-bg-color: #3B4455;\n",
              "      --disabled-fill-color: #666;\n",
              "  }\n",
              "\n",
              "  .colab-df-quickchart {\n",
              "    background-color: var(--bg-color);\n",
              "    border: none;\n",
              "    border-radius: 50%;\n",
              "    cursor: pointer;\n",
              "    display: none;\n",
              "    fill: var(--fill-color);\n",
              "    height: 32px;\n",
              "    padding: 0;\n",
              "    width: 32px;\n",
              "  }\n",
              "\n",
              "  .colab-df-quickchart:hover {\n",
              "    background-color: var(--hover-bg-color);\n",
              "    box-shadow: 0 1px 2px rgba(60, 64, 67, 0.3), 0 1px 3px 1px rgba(60, 64, 67, 0.15);\n",
              "    fill: var(--button-hover-fill-color);\n",
              "  }\n",
              "\n",
              "  .colab-df-quickchart-complete:disabled,\n",
              "  .colab-df-quickchart-complete:disabled:hover {\n",
              "    background-color: var(--disabled-bg-color);\n",
              "    fill: var(--disabled-fill-color);\n",
              "    box-shadow: none;\n",
              "  }\n",
              "\n",
              "  .colab-df-spinner {\n",
              "    border: 2px solid var(--fill-color);\n",
              "    border-color: transparent;\n",
              "    border-bottom-color: var(--fill-color);\n",
              "    animation:\n",
              "      spin 1s steps(1) infinite;\n",
              "  }\n",
              "\n",
              "  @keyframes spin {\n",
              "    0% {\n",
              "      border-color: transparent;\n",
              "      border-bottom-color: var(--fill-color);\n",
              "      border-left-color: var(--fill-color);\n",
              "    }\n",
              "    20% {\n",
              "      border-color: transparent;\n",
              "      border-left-color: var(--fill-color);\n",
              "      border-top-color: var(--fill-color);\n",
              "    }\n",
              "    30% {\n",
              "      border-color: transparent;\n",
              "      border-left-color: var(--fill-color);\n",
              "      border-top-color: var(--fill-color);\n",
              "      border-right-color: var(--fill-color);\n",
              "    }\n",
              "    40% {\n",
              "      border-color: transparent;\n",
              "      border-right-color: var(--fill-color);\n",
              "      border-top-color: var(--fill-color);\n",
              "    }\n",
              "    60% {\n",
              "      border-color: transparent;\n",
              "      border-right-color: var(--fill-color);\n",
              "    }\n",
              "    80% {\n",
              "      border-color: transparent;\n",
              "      border-right-color: var(--fill-color);\n",
              "      border-bottom-color: var(--fill-color);\n",
              "    }\n",
              "    90% {\n",
              "      border-color: transparent;\n",
              "      border-bottom-color: var(--fill-color);\n",
              "    }\n",
              "  }\n",
              "</style>\n",
              "\n",
              "  <script>\n",
              "    async function quickchart(key) {\n",
              "      const quickchartButtonEl =\n",
              "        document.querySelector('#' + key + ' button');\n",
              "      quickchartButtonEl.disabled = true;  // To prevent multiple clicks.\n",
              "      quickchartButtonEl.classList.add('colab-df-spinner');\n",
              "      try {\n",
              "        const charts = await google.colab.kernel.invokeFunction(\n",
              "            'suggestCharts', [key], {});\n",
              "      } catch (error) {\n",
              "        console.error('Error during call to suggestCharts:', error);\n",
              "      }\n",
              "      quickchartButtonEl.classList.remove('colab-df-spinner');\n",
              "      quickchartButtonEl.classList.add('colab-df-quickchart-complete');\n",
              "    }\n",
              "    (() => {\n",
              "      let quickchartButtonEl =\n",
              "        document.querySelector('#df-980e7299-9427-4e84-b296-f78e89b5d783 button');\n",
              "      quickchartButtonEl.style.display =\n",
              "        google.colab.kernel.accessAllowed ? 'block' : 'none';\n",
              "    })();\n",
              "  </script>\n",
              "</div>\n",
              "    </div>\n",
              "  </div>\n"
            ]
          },
          "metadata": {},
          "execution_count": 24
        }
      ]
    },
    {
      "cell_type": "code",
      "source": [
        "#train_data = train_data.copy(deep=True)\n",
        "train_data[['FAF','TUE']] = train_data[['FAF','TUE']].replace(0,np.nan)\n",
        "\n",
        "null_vals(train_data, 'null')"
      ],
      "metadata": {
        "colab": {
          "base_uri": "https://localhost:8080/"
        },
        "id": "n146OCQUAYrm",
        "outputId": "63466d13-bde2-4789-deeb-856b7f62ac2c"
      },
      "execution_count": 25,
      "outputs": [
        {
          "output_type": "stream",
          "name": "stdout",
          "text": [
            "null values in Gender is:  0\n",
            "null values in Age is:  0\n",
            "null values in Height is:  0\n",
            "null values in Weight is:  0\n",
            "null values in family_history_with_overweight is:  0\n",
            "null values in FAVC is:  0\n",
            "null values in FCVC is:  0\n",
            "null values in NCP is:  0\n",
            "null values in CAEC is:  0\n",
            "null values in SMOKE is:  0\n",
            "null values in CH2O is:  0\n",
            "null values in SCC is:  0\n",
            "null values in FAF is:  5044\n",
            "null values in TUE is:  6566\n",
            "null values in CALC is:  0\n",
            "null values in MTRANS is:  0\n"
          ]
        }
      ]
    },
    {
      "cell_type": "code",
      "source": [
        "plot = train_data[['FAF', 'TUE']].hist(figsize=(5,5))"
      ],
      "metadata": {
        "colab": {
          "base_uri": "https://localhost:8080/",
          "height": 490
        },
        "id": "0jHcS2sNBUrU",
        "outputId": "2303ef4d-29ed-45fe-f418-cc9ca0abe0d9"
      },
      "execution_count": 26,
      "outputs": [
        {
          "output_type": "display_data",
          "data": {
            "text/plain": [
              "<Figure size 500x500 with 2 Axes>"
            ],
            "image/png": "[encoded data removed]"
          },
          "metadata": {}
        }
      ]
    },
    {
      "cell_type": "code",
      "source": [
        "train_data['FAF'].fillna(train_data['FAF'].mean(), inplace=True)\n",
        "train_data['TUE'].fillna(train_data['TUE'].mean(), inplace=True)\n",
        "\n",
        "null_vals(train_data, 'null')"
      ],
      "metadata": {
        "colab": {
          "base_uri": "https://localhost:8080/"
        },
        "id": "8ISKLfd7A37m",
        "outputId": "733048ba-5aea-4349-e6bb-970d6f701848"
      },
      "execution_count": 27,
      "outputs": [
        {
          "output_type": "stream",
          "name": "stdout",
          "text": [
            "null values in Gender is:  0\n",
            "null values in Age is:  0\n",
            "null values in Height is:  0\n",
            "null values in Weight is:  0\n",
            "null values in family_history_with_overweight is:  0\n",
            "null values in FAVC is:  0\n",
            "null values in FCVC is:  0\n",
            "null values in NCP is:  0\n",
            "null values in CAEC is:  0\n",
            "null values in SMOKE is:  0\n",
            "null values in CH2O is:  0\n",
            "null values in SCC is:  0\n",
            "null values in FAF is:  0\n",
            "null values in TUE is:  0\n",
            "null values in CALC is:  0\n",
            "null values in MTRANS is:  0\n"
          ]
        }
      ]
    },
    {
      "cell_type": "code",
      "source": [
        "plot = train_data[['FAF', 'TUE']].hist(figsize=(5,5))"
      ],
      "metadata": {
        "colab": {
          "base_uri": "https://localhost:8080/",
          "height": 490
        },
        "id": "p3ip1xhvBGMv",
        "outputId": "1ac246b7-7f43-4db7-8172-f17c6beb89e9"
      },
      "execution_count": 28,
      "outputs": [
        {
          "output_type": "display_data",
          "data": {
            "text/plain": [
              "<Figure size 500x500 with 2 Axes>"
            ],
            "image/png": "[encoded data removed]"
          },
          "metadata": {}
        }
      ]
    },
    {
      "cell_type": "code",
      "source": [
        "cat_cols, num_cols = [], []\n",
        "columns = train_data.columns.tolist()\n",
        "threshold = 5\n",
        "for col in columns:\n",
        "  if train_data[col].nunique() <= threshold:\n",
        "    cat_cols.append(col)\n",
        "  else:\n",
        "    num_cols.append(col)"
      ],
      "metadata": {
        "id": "vPK3EBySSxCa"
      },
      "execution_count": 29,
      "outputs": []
    },
    {
      "cell_type": "code",
      "source": [
        "num_cols.remove(target)\n",
        "num_cols"
      ],
      "metadata": {
        "colab": {
          "base_uri": "https://localhost:8080/"
        },
        "id": "_vt11xJIMO0R",
        "outputId": "e4ead3ef-2876-4eed-8b51-b42080ff14f9"
      },
      "execution_count": 30,
      "outputs": [
        {
          "output_type": "execute_result",
          "data": {
            "text/plain": [
              "['Age', 'Height', 'Weight', 'FCVC', 'NCP', 'CH2O', 'FAF', 'TUE']"
            ]
          },
          "metadata": {},
          "execution_count": 30
        }
      ]
    },
    {
      "cell_type": "code",
      "source": [
        "categories = ['Normal_Weight',\n",
        "              'Insufficient_Weight',\n",
        "              'Overweight_Level_I',\n",
        "              'Overweight_Level_II',\n",
        "              'Obesity_Type_I',\n",
        "              'Obesity_Type_II',\n",
        "              'Obesity_Type_III']"
      ],
      "metadata": {
        "id": "BdsD6WRRd1L6"
      },
      "execution_count": 31,
      "outputs": []
    },
    {
      "cell_type": "code",
      "source": [
        "ce_ohe = OneHotEncoder(cols=cat_cols)\n",
        "train_encoded = ce_ohe.fit_transform(train_data, train_data[target])\n",
        "test_encoded = ce_ohe.fit_transform(test_data)\n",
        "#original_encoded = ce_ohe.fit_transform(original_data, original_data[target])\n",
        "\n",
        "ce_le = LabelEncoder()\n",
        "train_encoded[target] = ce_le.fit_transform(train_encoded[target])\n",
        "#test_encoded_data = ce_oe.fit_transform(train_encoded, train_encoded[target])\n",
        "#original_encoded[target] = ce_le.fit_transform(original_encoded[target])"
      ],
      "metadata": {
        "id": "ZhNdJ_EFZlkA"
      },
      "execution_count": 32,
      "outputs": []
    },
    {
      "cell_type": "markdown",
      "source": [
        "### Why Adversarial Validation?\n",
        "We use it to see if our train and test data are actually iid or not, so a higher roc-auc score would mean that our model is able to distinguish between test and train data very easily, we don't want that.\n",
        "\n",
        "<b> why? </b><br>\n",
        "Because if train and test data is easily distinguishable, our model will not work properly, there would be space that are not present in train data but they are present in test data, so our model wouldn't generalize properly.\n",
        "<br>\n",
        "We want our datasets to be indistinguishable so that the model we ultimately train generalizes properly\n",
        "\n",
        "\n",
        "Now, I have a function where I do adversarial validation and I remove the most important features according to this model.\n",
        "<br> <b> why? </b>\n",
        "<br>\n",
        "Because these are the features that make our train and test data distinguishable so removing these features should make our data slightly more indistinguishable.\n",
        "\n",
        "\n",
        "##### <b>NOTE: Removing a lot of features might result in accuracy of model later on </b>"
      ],
      "metadata": {
        "id": "NRPCfLDMIZ6O"
      }
    },
    {
      "cell_type": "code",
      "source": [
        "def adversarial_validation(dataset_1 = train_encoded, dataset_2 = test_encoded, label = 'Train-Test'):\n",
        "\n",
        "    adv_train = dataset_1.drop(target, axis = 1)\n",
        "    adv_test = dataset_2.copy()\n",
        "\n",
        "    adv_train['is_test'] = 0\n",
        "    adv_test['is_test'] = 1\n",
        "\n",
        "    adv = pd.concat([adv_train, adv_test], ignore_index = True)\n",
        "\n",
        "    adv_shuffled = adv.sample(frac = 1)\n",
        "\n",
        "    adv_X = adv_shuffled.drop('is_test', axis = 1)\n",
        "    adv_y = adv_shuffled.is_test\n",
        "\n",
        "    skf = StratifiedKFold(n_splits = 5, random_state = 42, shuffle = True)\n",
        "\n",
        "    val_scores = []\n",
        "    predictions = np.zeros(len(adv))\n",
        "\n",
        "    for fold, (train_idx, val_idx) in enumerate(skf.split(adv_X, adv_y)):\n",
        "\n",
        "        adv_lr = xgb.XGBClassifier(random_state = 42)\n",
        "        adv_lr.fit(adv_X.iloc[train_idx], adv_y.iloc[train_idx])\n",
        "\n",
        "        val_preds = adv_lr.predict_proba(adv_X.iloc[val_idx])[:,1]\n",
        "        predictions[val_idx] = val_preds\n",
        "        val_score = roc_auc_score(adv_y.iloc[val_idx], val_preds)\n",
        "        val_scores.append(val_score)\n",
        "\n",
        "    fpr, tpr, _ = roc_curve(adv['is_test'], predictions)\n",
        "\n",
        "    plt.figure(figsize = (4, 4))\n",
        "    sns.lineplot(x=[0, 1], y=[0, 1], linestyle=\"--\", label=\"Indistinguishable Datasets\")\n",
        "    sns.lineplot(x=fpr, y=tpr, label=\"Adversarial Validation Classifier\")\n",
        "    plt.title(f'{label} Validation = {np.mean(val_scores):.5f}', weight = 'bold', size = 17)\n",
        "    plt.xlabel('False Positive Rate')\n",
        "    plt.ylabel('True Positive Rate')\n",
        "    plt.show()\n",
        "\n",
        "    importance = adv_lr.feature_importances_  #(adv_shuffled, type='ShapValues')\n",
        "    plt.barh(adv_X.columns.tolist(), importance)"
      ],
      "metadata": {
        "id": "0SKXQybNmzrV"
      },
      "execution_count": 33,
      "outputs": []
    },
    {
      "cell_type": "code",
      "source": [
        "adversarial_validation()"
      ],
      "metadata": {
        "colab": {
          "base_uri": "https://localhost:8080/",
          "height": 861
        },
        "id": "fogEC-ymm764",
        "outputId": "ea16fa4a-a857-42b4-c253-495a766ffff5"
      },
      "execution_count": 34,
      "outputs": [
        {
          "output_type": "display_data",
          "data": {
            "text/plain": [
              "<Figure size 400x400 with 1 Axes>"
            ],
            "image/png": "[encoded data removed]"
          },
          "metadata": {}
        },
        {
          "output_type": "display_data",
          "data": {
            "text/plain": [
              "<Figure size 640x480 with 1 Axes>"
            ],
            "image/png": "[encoded data removed]"
          },
          "metadata": {}
        }
      ]
    },
    {
      "cell_type": "code",
      "source": [
        "test_encoded.drop('CALC_4', axis=1, inplace=True)\n",
        "test_encoded.shape"
      ],
      "metadata": {
        "colab": {
          "base_uri": "https://localhost:8080/"
        },
        "id": "ynXOpHMuy0SW",
        "outputId": "3e50b566-0b18-4737-efec-452f47c3bd2a"
      },
      "execution_count": 35,
      "outputs": [
        {
          "output_type": "execute_result",
          "data": {
            "text/plain": [
              "(13840, 30)"
            ]
          },
          "metadata": {},
          "execution_count": 35
        }
      ]
    },
    {
      "cell_type": "code",
      "source": [
        "adversarial_validation()"
      ],
      "metadata": {
        "id": "GhiCQkc6nLLN"
      },
      "execution_count": null,
      "outputs": []
    },
    {
      "cell_type": "code",
      "source": [
        "test_encoded.drop(['CAEC_1', 'CAEC_2', 'CAEC_3', 'TUE', 'FAF'], axis=1, inplace=True)\n",
        "train_encoded.drop(['CAEC_1', 'CAEC_2', 'CAEC_3', 'TUE', 'FAF'], axis=1, inplace=True)\n",
        "print(test_encoded.shape)\n",
        "print(train_encoded.shape)"
      ],
      "metadata": {
        "id": "QTnilb3ODAJI"
      },
      "execution_count": null,
      "outputs": []
    },
    {
      "cell_type": "code",
      "source": [
        "adversarial_validation()"
      ],
      "metadata": {
        "id": "XPGsmOQ9Da3B"
      },
      "execution_count": null,
      "outputs": []
    },
    {
      "cell_type": "markdown",
      "source": [
        "# Exploratory Data Analysis\n",
        "<b>Analysis of Target Variable</b>\n",
        "<br>\n",
        "From our plots we can see that the data distribustion is even between various classes which is good"
      ],
      "metadata": {
        "id": "X1wDlTnpTjks"
      }
    },
    {
      "cell_type": "code",
      "source": [
        "def target_var(df, title=None):\n",
        "  fig, axes = plt.subplots(1,2,figsize=(9,3))\n",
        "  sns.set(font_scale=0.6)\n",
        "  df[target].value_counts().plot.pie(autopct='%1.1f%%',\n",
        "                                    wedgeprops={'width': 0.5},\n",
        "                                    startangle=0,\n",
        "                                    ax=axes[0],\n",
        "                                    shadow=False,\n",
        "                                    textprops={'fontsize': 9},\n",
        "                                    colors=palette)\n",
        "  axes[0].set_ylabel('')\n",
        "  sns.countplot(x=target, data=df, palette=palette)\n",
        "  plt.suptitle(f\"{title} - Target Variable Analysis\")\n",
        "  plt.tight_layout()\n",
        "  plt.show()"
      ],
      "metadata": {
        "id": "M1gHsn8KV-9x"
      },
      "execution_count": null,
      "outputs": []
    },
    {
      "cell_type": "code",
      "source": [
        "target_var(train_encoded, 'Train Data')"
      ],
      "metadata": {
        "id": "dTBeP2ZrXtKO"
      },
      "execution_count": null,
      "outputs": []
    },
    {
      "cell_type": "code",
      "source": [
        "n_cols = 4\n",
        "n_rows = 2\n",
        "\n",
        "fig, axes = plt.subplots(nrows=n_rows, ncols=n_cols, figsize=(18, 4*n_rows))\n",
        "\n",
        "for i, var_name in enumerate(num_cols):\n",
        "    if var_name != target:\n",
        "        row = i // n_cols\n",
        "        col = i % n_cols\n",
        "\n",
        "        ax = axes[row, col]\n",
        "        sns.histplot(train_data[var_name], kde=True, ax=ax, label='Train')\n",
        "        sns.histplot(test_data[var_name], kde=True, ax=ax, label='Test')\n",
        "        #sns.distplot(original[var_name], kde=True, ax=ax, label='Original')\n",
        "        ax.set_title(f'{var_name} Distribution (Train vs Test)')\n",
        "        ax.legend()\n",
        "\n",
        "plt.tight_layout()\n",
        "plt.show()"
      ],
      "metadata": {
        "id": "d8P8zeUbKmFw"
      },
      "execution_count": null,
      "outputs": []
    },
    {
      "cell_type": "code",
      "source": [
        "n_cols = 4\n",
        "n_rows = 2\n",
        "\n",
        "fig, axes = plt.subplots(nrows=n_rows, ncols=n_cols, figsize=(18, 4*n_rows))\n",
        "\n",
        "for i, var_name in enumerate(cat_cols):\n",
        "    if var_name != target:\n",
        "        row = i // n_cols\n",
        "        col = i % n_cols\n",
        "\n",
        "        ax = axes[row, col]\n",
        "        sns.countplot(train_data[var_name], ax=ax, label='Train')\n",
        "        sns.countplot(test_data[var_name], ax=ax, label='Test')\n",
        "        #sns.distplot(original[var_name], kde=True, ax=ax, label='Original')\n",
        "        ax.set_title(f'{var_name} Distribution (Train vs Test)')\n",
        "        ax.legend()\n",
        "\n",
        "plt.tight_layout()\n",
        "plt.show()"
      ],
      "metadata": {
        "id": "pg0AlZiCMjD1"
      },
      "execution_count": null,
      "outputs": []
    },
    {
      "cell_type": "markdown",
      "source": [
        "<b> Correlation Plot </b>"
      ],
      "metadata": {
        "id": "9XjjlNKUKD2P"
      }
    },
    {
      "cell_type": "code",
      "source": [
        "corr = train_encoded.corr()\n",
        "mask = np.triu(np.ones_like(corr))\n",
        "\n",
        "plt.figure(figsize=(15,15))\n",
        "sns.set(font_scale=0.6)\n",
        "sns.heatmap(corr, mask=mask, annot=True, cmap='BuPu')"
      ],
      "metadata": {
        "id": "Q1gs7AU7XxRn"
      },
      "execution_count": null,
      "outputs": []
    },
    {
      "cell_type": "markdown",
      "source": [
        "# Modelling"
      ],
      "metadata": {
        "id": "zaPEocjxmbYx"
      }
    },
    {
      "cell_type": "code",
      "source": [
        "X = train_encoded.drop([f'{target}'],axis=1).reset_index(drop=True)\n",
        "y = train_encoded[f'{target}'].reset_index(drop=True)\n",
        "X_test = test_encoded.reset_index(drop=True)"
      ],
      "metadata": {
        "id": "bB_yRzP_NI_X"
      },
      "execution_count": null,
      "outputs": []
    },
    {
      "cell_type": "code",
      "source": [
        "num_cols.remove('FAF')\n",
        "num_cols.remove('TUE')\n",
        "num_cols"
      ],
      "metadata": {
        "id": "HCW0QMJ3N0zJ"
      },
      "execution_count": null,
      "outputs": []
    },
    {
      "cell_type": "code",
      "source": [
        "X.head()"
      ],
      "metadata": {
        "id": "N8MjEpGON21c"
      },
      "execution_count": null,
      "outputs": []
    },
    {
      "cell_type": "code",
      "source": [
        "sc = StandardScaler()\n",
        "X[num_cols] = sc.fit_transform(X[num_cols])\n",
        "X_test[num_cols] = sc.transform(X_test[num_cols])"
      ],
      "metadata": {
        "id": "q24XYwNxNVrH"
      },
      "execution_count": null,
      "outputs": []
    },
    {
      "cell_type": "code",
      "source": [
        "X.head()"
      ],
      "metadata": {
        "id": "tJu5upifOS6b"
      },
      "execution_count": null,
      "outputs": []
    },
    {
      "cell_type": "code",
      "source": [
        "print(f\"X_train shape :{X.shape} , y_train shape :{y.shape}\")\n",
        "print(f\"X_test shape :{X_test.shape}\")"
      ],
      "metadata": {
        "id": "huQ0bwTWOUa3"
      },
      "execution_count": null,
      "outputs": []
    },
    {
      "cell_type": "code",
      "source": [
        "X_train = X.copy(deep=True)\n",
        "y_train = y.copy(deep=True)"
      ],
      "metadata": {
        "id": "yvkDmROcY-to"
      },
      "execution_count": null,
      "outputs": []
    },
    {
      "cell_type": "code",
      "source": [
        "class Splitter:\n",
        "    def __init__(self, kfold=True, n_splits=5):\n",
        "        self.n_splits = n_splits\n",
        "        self.kfold = kfold\n",
        "\n",
        "    def split_data(self, X, y, random_state_list):\n",
        "        if self.kfold:\n",
        "            for random_state in random_state_list:\n",
        "                kf = StratifiedKFold(n_splits=self.n_splits, random_state=random_state, shuffle=True)\n",
        "                for train_index, val_index in kf.split(X, y):\n",
        "                    X_train, X_val = X.iloc[train_index], X.iloc[val_index]\n",
        "                    y_train, y_val = y.iloc[train_index], y.iloc[val_index]\n",
        "                    yield X_train, X_val, y_train, y_val\n",
        "        else:\n",
        "            raise ValueError(f\"Invalid kfold: Must be True\")\n",
        "\n",
        "class Classifier:\n",
        "    def __init__(self, n_estimators=100, device=\"cpu\", random_state=0):\n",
        "        self.n_estimators = n_estimators\n",
        "        self.device = device\n",
        "        self.random_state = random_state\n",
        "        self.models = self._define_model()\n",
        "        self.len_models = len(self.models)\n",
        "\n",
        "    def _define_model(self):\n",
        "\n",
        "        xgb_params = {\n",
        "            'n_estimators': self.n_estimators,\n",
        "            'learning_rate': 0.05,\n",
        "            'max_depth': 4,\n",
        "            'subsample': 0.8,\n",
        "            'colsample_bytree': 0.1,\n",
        "            'n_jobs': -1,\n",
        "            'eval_metric': 'mlogloss',\n",
        "            'objective': 'multi:softprob',\n",
        "            'tree_method': 'hist',\n",
        "            'verbosity': 2,\n",
        "            'random_state': self.random_state,\n",
        "        }\n",
        "        if self.device == 'gpu':\n",
        "            xgb_params['tree_method'] = 'gpu_hist'\n",
        "            xgb_params['predictor'] = 'gpu_predictor'\n",
        "\n",
        "        lgb_params = {\n",
        "            'n_estimators': self.n_estimators,\n",
        "            'max_depth': 7,\n",
        "            'learning_rate': 0.05,\n",
        "            'subsample': 0.20,\n",
        "            'colsample_bytree': 0.56,\n",
        "            'reg_alpha': 0.25,\n",
        "            'reg_lambda': 5e-08,\n",
        "            'objective': 'multiclass',\n",
        "            'metric': 'multi_logloss',\n",
        "            'boosting_type': 'gbdt',\n",
        "            'device': self.device,\n",
        "            'verbosity': -1,\n",
        "            'random_state': self.random_state\n",
        "        }\n",
        "\n",
        "        cb_params = {\n",
        "            'iterations': self.n_estimators,\n",
        "            'depth': 7,\n",
        "            'learning_rate': 0.1,\n",
        "            'l2_leaf_reg': 0.7,\n",
        "            'random_strength': 0.2,\n",
        "            'max_bin': 200,\n",
        "            'od_wait': 65,\n",
        "            'one_hot_max_size': 70,\n",
        "            'grow_policy': 'Depthwise',\n",
        "            'bootstrap_type': 'Bayesian',\n",
        "            'od_type': 'Iter',\n",
        "            'eval_metric': 'MultiClass',\n",
        "            'loss_function': 'MultiClass',\n",
        "            'task_type': self.device.upper(),\n",
        "            'random_state': self.random_state\n",
        "        }\n",
        "\n",
        "        models = {\n",
        "            'svc': SVC(gamma=\"auto\", probability=True, random_state=self.random_state),\n",
        "            #'xgb': xgb.XGBClassifier(**xgb_params),\n",
        "            'lgb': lgb.LGBMClassifier(**lgb_params),\n",
        "            'cat': CatBoostClassifier(**cb_params),\n",
        "            'brf': BalancedRandomForestClassifier(n_estimators=4000, n_jobs=-1, random_state=self.random_state),\n",
        "            'rf': RandomForestClassifier(n_estimators=1000, random_state=self.random_state),\n",
        "        }\n",
        "\n",
        "        return models"
      ],
      "metadata": {
        "id": "PKy5_cP84hlw"
      },
      "execution_count": null,
      "outputs": []
    },
    {
      "cell_type": "code",
      "source": [
        "!pip install cmaes"
      ],
      "metadata": {
        "id": "5-htU_QQt1U2"
      },
      "execution_count": null,
      "outputs": []
    },
    {
      "cell_type": "code",
      "source": [
        "class OptunaWeights:\n",
        "    def __init__(self, random_state, n_trials=2000):\n",
        "        self.study = None\n",
        "        self.weights = None\n",
        "        self.random_state = random_state\n",
        "        self.n_trials = n_trials\n",
        "\n",
        "    def _objective(self, trial, y_true, y_preds):\n",
        "        # Define the weights for the predictions from each model\n",
        "        weights = [trial.suggest_float(f\"weight{n}\", 1e-12, 1) for n in range(len(y_preds))]\n",
        "\n",
        "        # Calculate the weighted prediction\n",
        "        weighted_pred = np.average(np.array(y_preds), axis=0, weights=weights)\n",
        "\n",
        "        # Calculate the MAP@3 score for the weighted prediction\n",
        "        top_preds = np.argsort(-weighted_pred, axis=1)[:, :3]\n",
        "        score = mapk(y_true.reshape(-1, 1), top_preds, 3)\n",
        "\n",
        "        return score\n",
        "\n",
        "    def fit(self, y_true, y_preds):\n",
        "        optuna.logging.set_verbosity(optuna.logging.ERROR)\n",
        "        sampler = optuna.samplers.CmaEsSampler(seed=self.random_state)\n",
        "        self.study = optuna.create_study(sampler=sampler, study_name=\"OptunaWeights\", direction='maximize') # minimize\n",
        "        objective_partial = partial(self._objective, y_true=y_true, y_preds=y_preds)\n",
        "        self.study.optimize(objective_partial, n_trials=self.n_trials)\n",
        "        self.weights = [self.study.best_params[f\"weight{n}\"] for n in range(len(y_preds))]\n",
        "\n",
        "    def predict(self, y_preds):\n",
        "        assert self.weights is not None, 'OptunaWeights error, must be fitted before predict'\n",
        "        weighted_pred = np.average(np.array(y_preds), axis=0, weights=self.weights)\n",
        "        return weighted_pred\n",
        "\n",
        "    def fit_predict(self, y_true, y_preds):\n",
        "        self.fit(y_true, y_preds)\n",
        "        return self.predict(y_preds)\n",
        "\n",
        "    def weights(self):\n",
        "        return self.weights\n",
        "\n",
        "def apk(actual, predicted, k=10):\n",
        "    if len(predicted)>k:\n",
        "        predicted = predicted[:k]\n",
        "\n",
        "    score = 0.0\n",
        "    num_hits = 0.0\n",
        "\n",
        "    for i,p in enumerate(predicted):\n",
        "        if p in actual and p not in predicted[:i]:\n",
        "            num_hits += 1.0\n",
        "            score += num_hits / (i+1.0)\n",
        "\n",
        "    if not actual:\n",
        "        return 0.0\n",
        "\n",
        "    return score / min(len(actual), k)\n",
        "\n",
        "def mapk(actual, predicted, k=10):\n",
        "    return np.mean([apk(a,p,k) for a,p in zip(actual, predicted)])"
      ],
      "metadata": {
        "id": "7vMdpNZ54hOg"
      },
      "execution_count": null,
      "outputs": []
    },
    {
      "cell_type": "code",
      "source": [
        "!pip install umap"
      ],
      "metadata": {
        "id": "A0e7voC-sFAi"
      },
      "execution_count": null,
      "outputs": []
    },
    {
      "cell_type": "code",
      "source": [
        "# Import necessary libraries\n",
        "import numpy as np\n",
        "import pandas as pd\n",
        "import matplotlib.pyplot as plt\n",
        "import seaborn as sns\n",
        "# Set the default color palette to \"pastel\"\n",
        "sns.set_palette(\"muted\")\n",
        "import random\n",
        "import os\n",
        "from copy import deepcopy\n",
        "from functools import partial\n",
        "from itertools import combinations\n",
        "import random\n",
        "import gc\n",
        "\n",
        "# Import sklearn classes for model selection, cross validation, and performance evaluation\n",
        "from sklearn.base import BaseEstimator, TransformerMixin\n",
        "from sklearn.model_selection import train_test_split\n",
        "from sklearn.model_selection import StratifiedKFold, KFold\n",
        "from sklearn.metrics import roc_auc_score, accuracy_score, log_loss\n",
        "from sklearn.preprocessing import StandardScaler\n",
        "import seaborn as sns\n",
        "from category_encoders import OneHotEncoder, OrdinalEncoder, CountEncoder, CatBoostEncoder\n",
        "from imblearn.under_sampling import RandomUnderSampler\n",
        "from sklearn.preprocessing import StandardScaler, MinMaxScaler\n",
        "from sklearn.decomposition import PCA, NMF\n",
        "import umap\n",
        "from sklearn.manifold import TSNE\n",
        "\n",
        "# Import libraries for Hypertuning\n",
        "import optuna\n",
        "\n",
        "# Import libraries for gradient boosting\n",
        "import xgboost as xgb\n",
        "import lightgbm as lgb\n",
        "import xgboost as xgb\n",
        "import lightgbm as lgb\n",
        "from sklearn.ensemble import RandomForestClassifier, HistGradientBoostingClassifier, GradientBoostingClassifier\n",
        "from imblearn.ensemble import BalancedRandomForestClassifier\n",
        "from sklearn.svm import NuSVC, SVC\n",
        "from sklearn.neighbors import KNeighborsClassifier\n",
        "from sklearn.linear_model import LogisticRegression\n",
        "from sklearn.neural_network import MLPClassifier\n",
        "from sklearn.gaussian_process import GaussianProcessClassifier\n",
        "from sklearn.gaussian_process.kernels import RBF\n",
        "from catboost import CatBoost, CatBoostRegressor, CatBoostClassifier\n",
        "from catboost import Pool\n",
        "\n",
        "# Suppress warnings\n",
        "import warnings\n",
        "warnings.filterwarnings(\"ignore\", category=UserWarning)\n",
        "warnings.filterwarnings(\"ignore\", category=pd.errors.PerformanceWarning)\n",
        "warnings.filterwarnings(\"ignore\", category=FutureWarning)"
      ],
      "metadata": {
        "id": "NXhsYEY4r1-J"
      },
      "execution_count": null,
      "outputs": []
    },
    {
      "cell_type": "code",
      "source": [
        "kfold = True\n",
        "n_splits = 1 if not kfold else 5 # 15\n",
        "random_state = 8741\n",
        "random_state_list = [70669, 26564, 12642] # used by split_data [70669, 26564]\n",
        "n_estimators = 9999 # 9999\n",
        "early_stopping_rounds = 200\n",
        "verbose = False\n",
        "device = 'cpu'\n",
        "atk = 3\n",
        "splitter = Splitter(kfold=kfold, n_splits=n_splits)\n",
        "\n",
        "# Initialize an array for storing test predictions\n",
        "test_predss = np.zeros((X_test.shape[0], len(y_train.unique())))\n",
        "ensemble_score = []\n",
        "ensemble_mapk_score = []\n",
        "weights = []\n",
        "trained_models = {'xgb':[], 'lgb':[], 'cat':[], 'rf':[]}\n",
        "#rank_df = pd.DataFrame(columns=swapped_map.keys(), index=X_test.index).fillna(0)\n",
        "\n",
        "\n",
        "for i, (X_train_, X_val, y_train_, y_val) in enumerate(splitter.split_data(X_train, y_train, random_state_list=random_state_list)):\n",
        "    n = i % n_splits\n",
        "    m = i // n_splits\n",
        "\n",
        "    # Get a set of Regressor models\n",
        "    classifier = Classifier(n_estimators, device, random_state)\n",
        "    models = classifier.models\n",
        "\n",
        "    # Initialize lists to store oof and test predictions for each base model\n",
        "    oof_preds = []\n",
        "    test_preds = []\n",
        "\n",
        "    # Loop over each base model and fit it to the training data, evaluate on validation data, and store predictions\n",
        "    for name, model in models.items():\n",
        "        if name in ['xgb', 'cat']:\n",
        "            model.fit(X_train_, y_train_, eval_set=[(X_val, y_val)], early_stopping_rounds=early_stopping_rounds, verbose=verbose)\n",
        "        else:\n",
        "            model.fit(X_train_, y_train_)\n",
        "\n",
        "        if name in trained_models.keys():\n",
        "            trained_models[f'{name}'].append(deepcopy(model))\n",
        "\n",
        "        test_pred = model.predict_proba(X_test)\n",
        "        y_val_pred = model.predict_proba(X_val)\n",
        "\n",
        "        top_preds = np.argsort(-y_val_pred, axis=1)[:, :atk]\n",
        "        mapk_score = mapk(y_val.values.reshape(-1, 1), top_preds, atk)\n",
        "\n",
        "        score = log_loss(y_val, y_val_pred)\n",
        "        print(f'{name} [FOLD-{n} SEED-{random_state_list[m]}] MAP@{atk}: {mapk_score:.5f}, Logloss: {score:.5f}')\n",
        "\n",
        "        oof_preds.append(y_val_pred)\n",
        "        test_preds.append(test_pred)\n",
        "\n",
        "    # Use Optuna to find the best ensemble weights\n",
        "    optweights = OptunaWeights(random_state=random_state)\n",
        "    y_val_pred = optweights.fit_predict(y_val.values, oof_preds)\n",
        "\n",
        "    score = log_loss(y_val, y_val_pred)\n",
        "    print(f'Ensemble [FOLD-{n} SEED-{random_state_list[m]}] MAP@{atk}: {mapk_score:.5f}, Logloss: {score:.5f}')\n",
        "    ensemble_score.append(score)\n",
        "    ensemble_mapk_score.append(mapk_score)\n",
        "    weights.append(optweights.weights)\n",
        "\n",
        "    # Predict to X_test by the best ensemble weights\n",
        "    _test_preds = optweights.predict(test_preds)\n",
        "    test_predss += _test_preds / (n_splits * len(random_state_list))\n",
        "\n",
        "\n",
        "    gc.collect()"
      ],
      "metadata": {
        "id": "vbmCvkP-4hDi"
      },
      "execution_count": null,
      "outputs": []
    },
    {
      "cell_type": "code",
      "source": [],
      "metadata": {
        "id": "Xc54Xkjb4g5g"
      },
      "execution_count": null,
      "outputs": []
    },
    {
      "cell_type": "code",
      "source": [],
      "metadata": {
        "id": "ANXRUZ3c4giV"
      },
      "execution_count": null,
      "outputs": []
    },
    {
      "cell_type": "code",
      "source": [
        "'''\n",
        "  params = dict(use_label_encoder=False,\n",
        "                  eval_metric='logloss',\n",
        "                  objective='multi:softmax',\n",
        "              verbosity=1,\n",
        "              random_state=42)\n",
        "  params = {'use_label_encoder': False,\n",
        " 'eval_metric': 'logloss',\n",
        " 'objective': 'multi:softmax',\n",
        " 'verbosity': 1,\n",
        " 'random_state': 42,\n",
        " 'n_estimators': 868,\n",
        " 'max_depth': 25,\n",
        " 'learning_rate': 0.11905203649814056,\n",
        " 'gamma': 0.6515083313645063,\n",
        " 'subsample': 0.5781693112712974,\n",
        " 'min_child_weight': 0.9985117520274043,\n",
        " 'reg_lambda': 1.8351930568718644,\n",
        " 'reg_alpha': 1.57763685768516,\n",
        " 'colsample_bytree': 0.43475654245755296}\n",
        " #'tree_method': 'gpu_hist',\n",
        " #'gpu_id': 0})\n",
        "#gpu_params = dict(tree_method='gpu_hist',gpu_id=0)\n",
        "#params.update(gpu_params)\n",
        "  params\n",
        "'''"
      ],
      "metadata": {
        "id": "L2OidOX8PSfm"
      },
      "execution_count": null,
      "outputs": []
    },
    {
      "cell_type": "code",
      "source": [
        "'''\n",
        "strat_split = StratifiedKFold(n_splits=5,\n",
        "                              random_state=42,\n",
        "                              shuffle = True)\n",
        "\n",
        "model = xgb.XGBClassifier(**params)\n",
        "lg_loss = []\n",
        "for fold, (train_idx, test_idx) in enumerate(strat_split.split(X=X, y=y)):\n",
        "    X_train = X.loc[train_idx]\n",
        "    y_train = y.loc[train_idx]\n",
        "    X_val = X.loc[test_idx]\n",
        "    y_val = y.loc[test_idx]\n",
        "\n",
        "    #model.fit(X_train, y_train,eval_set=[(X_val,y_val)], early_stopping_rounds=100)\n",
        "    model.fit(X_train, y_train)\n",
        "    preds = model.predict_proba(X_val)\n",
        "    fold_lgloss = log_loss(y_val,preds)\n",
        "    print(fold_lgloss)\n",
        "    lg_loss.append(fold_lgloss)\n",
        "\n",
        "print(f\"Mean log_loss : {np.mean(lg_loss)}\")\n",
        "'''\n"
      ],
      "metadata": {
        "id": "MTsBZk1NOYj9"
      },
      "execution_count": null,
      "outputs": []
    },
    {
      "cell_type": "code",
      "source": [
        "predictions = model.predict(X_test)"
      ],
      "metadata": {
        "id": "DDUXKPDcRyOL"
      },
      "execution_count": null,
      "outputs": []
    },
    {
      "cell_type": "code",
      "source": [
        "submission = pd.read_csv(\"/content/drive/MyDrive/Colab_Data/Kaggle_PGS_S4E2/sample_submission.csv\", index_col=None)"
      ],
      "metadata": {
        "id": "27yLqhl2V19e"
      },
      "execution_count": null,
      "outputs": []
    },
    {
      "cell_type": "code",
      "source": [
        "submit = pd.DataFrame(predictions, columns = ['target'])\n",
        "submit['id'] = submission['id']\n",
        "submit = submit[['id','target']]\n",
        "le_target_map = dict(zip(ce_le.transform(ce_le.classes_), ce_le.classes_))\n",
        "le_target_map"
      ],
      "metadata": {
        "id": "7StGczptVocf"
      },
      "execution_count": null,
      "outputs": []
    },
    {
      "cell_type": "code",
      "source": [
        "submit['NObeyesdad'] = submit['target'].apply(lambda x: le_target_map[x])\n",
        "submit = submit[['id','NObeyesdad']]"
      ],
      "metadata": {
        "id": "jOib6LRhWPwh"
      },
      "execution_count": null,
      "outputs": []
    },
    {
      "cell_type": "code",
      "source": [
        "submit"
      ],
      "metadata": {
        "id": "3tqECMUlWbBR"
      },
      "execution_count": null,
      "outputs": []
    },
    {
      "cell_type": "code",
      "source": [
        "submit.to_csv(\"/content/drive/MyDrive/Colab_Data/Kaggle_PGS_S4E2/submission.csv\", index=False)"
      ],
      "metadata": {
        "id": "YuJl0Az2Wb5y"
      },
      "execution_count": null,
      "outputs": []
    },
    {
      "cell_type": "code",
      "source": [],
      "metadata": {
        "id": "e0lTJvFAWiOO"
      },
      "execution_count": null,
      "outputs": []
    }
  ]
}